{
 "cells": [
  {
   "cell_type": "code",
   "execution_count": null,
   "metadata": {
    "colab": {
     "base_uri": "https://localhost:8080/"
    },
    "id": "pACDCgxPDtw_",
    "outputId": "6cdd665a-396e-4884-cdfa-625dd79ed14b"
   },
   "outputs": [
    {
     "name": "stdout",
     "output_type": "stream",
     "text": [
      "Drive already mounted at /content/drive; to attempt to forcibly remount, call drive.mount(\"/content/drive\", force_remount=True).\n"
     ]
    }
   ],
   "source": [
    "import pandas as pd\n",
    "import numpy as np\n",
    "import matplotlib.pyplot as plt\n",
    "import seaborn as sns\n",
    "%matplotlib inline\n",
    "from google.colab import drive\n",
    "from sklearn.metrics import accuracy_score\n",
    "from sklearn.metrics import confusion_matrix\n",
    "import glob\n",
    "drive.mount('/content/drive')"
   ]
  },
  {
   "cell_type": "markdown",
   "metadata": {
    "id": "tV54OwReDvsK"
   },
   "source": [
    "# Informações sobre o algoritmo.\n",
    "- Esta é a última parte do trabalho da disciplina de Reconhecimento de Padrões do curso de mestrado em engenharia elétrica da UFJF. Esta parte contém avaliação dos modelos dos classificadores pedidos no trabalho. \n",
    " \n"
   ]
  },
  {
   "cell_type": "markdown",
   "metadata": {
    "id": "VTJJn13sD97T"
   },
   "source": [
    "# Importando os dados"
   ]
  },
  {
   "cell_type": "code",
   "execution_count": null,
   "metadata": {
    "id": "GSZg-HdsDxok"
   },
   "outputs": [],
   "source": [
    "# Carrega todos arquivos scv que estão dentro de uma pasta e os armazena em uma lista \n",
    "def rot_aux(aux,aux1,ind,ind1):\n",
    "    df_a   = pd.read_csv(aux1[ind1], skiprows=[0,1,2,3]) # carregar o dataframe que está dentro da pasta \n",
    "    rotulo = np.array(aux)[ind][29:len(aux[ind])] # rótulo do banco de dados carregado\n",
    "    rot    = [] \n",
    "    for i in range(len(df_a)):\n",
    "        rot.append(rotulo)\n",
    "    df_a['Classes'] = rot # adcionar o rótulo na figura\n",
    "    return df_a"
   ]
  },
  {
   "cell_type": "code",
   "execution_count": null,
   "metadata": {
    "id": "gs9PLLeaHf4O"
   },
   "outputs": [],
   "source": [
    "# Concatena os arquivos que estão na lista que é obtida pela função rot_aux\n",
    "def rotular_df(aux,ind): \n",
    "    a    = aux[ind] +'/*'\n",
    "    aux1 = glob.glob(a) #listar as pastas que contém todos os dados de cada exercício\n",
    "    df = pd.concat([rot_aux(aux,aux1,ind,ind1 = i) for i in range(len(aux1))],ignore_index=True)\n",
    "    return df"
   ]
  },
  {
   "cell_type": "code",
   "execution_count": null,
   "metadata": {
    "id": "RPsIRtRJH3UH"
   },
   "outputs": [],
   "source": [
    "aux  = glob.glob('/home/antoniojr/notebooks/AReM/*') #listar as pastas que contém todos os dados de cada exercício\n",
    "df = pd.concat([rotular_df(aux,ind =i) for i in range(len(aux))],ignore_index=True) # dataframe que contém todos os parâmetros "
   ]
  },
  {
   "cell_type": "code",
   "execution_count": null,
   "metadata": {
    "id": "O8fNCImiH3Xm"
   },
   "outputs": [],
   "source": [
    "df=df.drop('# Columns: time', axis=1) # excluindo a coluna que não tenho interesse ((foi visto que os valores se repetem para cada classe) "
   ]
  },
  {
   "cell_type": "code",
   "execution_count": null,
   "metadata": {
    "id": "Co8I-lV3H3aL"
   },
   "outputs": [],
   "source": [
    "df['Classes'] = df['Classes'].map({'bending1':0, 'bending2':1, 'cycling':2, 'lying':3, 'sitting':4, 'standing':5,\n",
    "       'walking':6})"
   ]
  },
  {
   "cell_type": "code",
   "execution_count": null,
   "metadata": {
    "colab": {
     "base_uri": "https://localhost:8080/",
     "height": 206
    },
    "id": "Pv0huBUAIP5O",
    "outputId": "763db1c5-b05e-4266-f853-561d43eaf8e3"
   },
   "outputs": [
    {
     "data": {
      "text/html": [
       "<div>\n",
       "<style scoped>\n",
       "    .dataframe tbody tr th:only-of-type {\n",
       "        vertical-align: middle;\n",
       "    }\n",
       "\n",
       "    .dataframe tbody tr th {\n",
       "        vertical-align: top;\n",
       "    }\n",
       "\n",
       "    .dataframe thead th {\n",
       "        text-align: right;\n",
       "    }\n",
       "</style>\n",
       "<table border=\"1\" class=\"dataframe\">\n",
       "  <thead>\n",
       "    <tr style=\"text-align: right;\">\n",
       "      <th></th>\n",
       "      <th>avg_rss12</th>\n",
       "      <th>var_rss12</th>\n",
       "      <th>avg_rss13</th>\n",
       "      <th>var_rss13</th>\n",
       "      <th>avg_rss23</th>\n",
       "      <th>var_rss23</th>\n",
       "      <th>Classes</th>\n",
       "    </tr>\n",
       "  </thead>\n",
       "  <tbody>\n",
       "    <tr>\n",
       "      <th>0</th>\n",
       "      <td>46.25</td>\n",
       "      <td>0.43</td>\n",
       "      <td>18.25</td>\n",
       "      <td>0.43</td>\n",
       "      <td>14.75</td>\n",
       "      <td>0.43</td>\n",
       "      <td>5</td>\n",
       "    </tr>\n",
       "    <tr>\n",
       "      <th>1</th>\n",
       "      <td>46.00</td>\n",
       "      <td>0.71</td>\n",
       "      <td>18.50</td>\n",
       "      <td>0.87</td>\n",
       "      <td>14.25</td>\n",
       "      <td>0.83</td>\n",
       "      <td>5</td>\n",
       "    </tr>\n",
       "    <tr>\n",
       "      <th>2</th>\n",
       "      <td>46.25</td>\n",
       "      <td>0.83</td>\n",
       "      <td>18.50</td>\n",
       "      <td>0.87</td>\n",
       "      <td>13.75</td>\n",
       "      <td>0.83</td>\n",
       "      <td>5</td>\n",
       "    </tr>\n",
       "    <tr>\n",
       "      <th>3</th>\n",
       "      <td>46.25</td>\n",
       "      <td>0.83</td>\n",
       "      <td>18.67</td>\n",
       "      <td>0.47</td>\n",
       "      <td>14.00</td>\n",
       "      <td>0.82</td>\n",
       "      <td>5</td>\n",
       "    </tr>\n",
       "    <tr>\n",
       "      <th>4</th>\n",
       "      <td>46.00</td>\n",
       "      <td>1.00</td>\n",
       "      <td>18.50</td>\n",
       "      <td>0.50</td>\n",
       "      <td>13.25</td>\n",
       "      <td>0.83</td>\n",
       "      <td>5</td>\n",
       "    </tr>\n",
       "  </tbody>\n",
       "</table>\n",
       "</div>"
      ],
      "text/plain": [
       "   avg_rss12  var_rss12  avg_rss13  var_rss13  avg_rss23  var_rss23  Classes\n",
       "0      46.25       0.43      18.25       0.43      14.75       0.43        5\n",
       "1      46.00       0.71      18.50       0.87      14.25       0.83        5\n",
       "2      46.25       0.83      18.50       0.87      13.75       0.83        5\n",
       "3      46.25       0.83      18.67       0.47      14.00       0.82        5\n",
       "4      46.00       1.00      18.50       0.50      13.25       0.83        5"
      ]
     },
     "execution_count": 15,
     "metadata": {
      "tags": []
     },
     "output_type": "execute_result"
    }
   ],
   "source": [
    "df.head() # olhando o banco de dados "
   ]
  },
  {
   "cell_type": "markdown",
   "metadata": {
    "id": "QwmVJJ6rIWCV"
   },
   "source": [
    "# Separando dados de treinamento e teste"
   ]
  },
  {
   "cell_type": "code",
   "execution_count": null,
   "metadata": {
    "id": "WtDKH9wIFF5y"
   },
   "outputs": [],
   "source": [
    "from sklearn.model_selection import train_test_split "
   ]
  },
  {
   "cell_type": "code",
   "execution_count": null,
   "metadata": {
    "id": "Fg-a_KYlFQ49"
   },
   "outputs": [],
   "source": [
    "X_train1, X_test1, y_train1, y_test1 = train_test_split(df[df.columns[0:-1]], np.ravel(df['Classes']), test_size=0.40, random_state=101)"
   ]
  },
  {
   "cell_type": "code",
   "execution_count": null,
   "metadata": {
    "id": "cBrX8zuzInxz"
   },
   "outputs": [],
   "source": [
    "from sklearn.preprocessing import StandardScaler\n",
    "scaler       = StandardScaler() "
   ]
  },
  {
   "cell_type": "code",
   "execution_count": null,
   "metadata": {
    "id": "QeGzf38cIn1N"
   },
   "outputs": [],
   "source": [
    "X_t     = scaler.fit_transform(X_train1) # dados de treinamento normalizado\n",
    "X_v     = scaler.fit_transform(X_test1) # dados de teste normalizado"
   ]
  },
  {
   "cell_type": "code",
   "execution_count": null,
   "metadata": {
    "id": "-zEFiNqSJMuI"
   },
   "outputs": [],
   "source": []
  },
  {
   "cell_type": "markdown",
   "metadata": {
    "id": "rD6by8-kJOFs"
   },
   "source": [
    "# REDE MLP com a melhor configuação\n",
    "- 3 camadas ocultas e 86 neurônios em cada camada oculta"
   ]
  },
  {
   "cell_type": "code",
   "execution_count": null,
   "metadata": {
    "id": "_K33sV10JM2h"
   },
   "outputs": [],
   "source": [
    "from sklearn.neural_network import MLPClassifier"
   ]
  },
  {
   "cell_type": "code",
   "execution_count": null,
   "metadata": {
    "id": "l3LlqLSBJM5Z"
   },
   "outputs": [],
   "source": [
    "clf        = MLPClassifier(hidden_layer_sizes=(86,86,86), solver='adam', alpha=1e-5, random_state=1, max_iter=1000)\n",
    "clf.fit(X_t, y_train1)\n",
    "y_pred_MLP = clf.predict(X_v)"
   ]
  },
  {
   "cell_type": "markdown",
   "metadata": {
    "id": "ZAhJJaS6KQoF"
   },
   "source": [
    "# Melhor configuração do classificador SVM\n",
    "- C = 1 , gamma = 1"
   ]
  },
  {
   "cell_type": "code",
   "execution_count": null,
   "metadata": {
    "id": "rEkrEPPIK5KT"
   },
   "outputs": [],
   "source": [
    "from sklearn import svm  #  importar instância que tem o SVM "
   ]
  },
  {
   "cell_type": "code",
   "execution_count": null,
   "metadata": {
    "id": "eWn7qzoHKP1V"
   },
   "outputs": [],
   "source": [
    "model      = svm.SVC(1,kernel = 'rbf', gamma = 1)  # modelo \n",
    "model.fit(X_t, y_train1)\n",
    "y_pred_svm = model.predict(X_v)"
   ]
  },
  {
   "cell_type": "markdown",
   "metadata": {
    "id": "DrUBEu9sLLgd"
   },
   "source": [
    "# Rede com kernel RBF"
   ]
  },
  {
   "cell_type": "code",
   "execution_count": null,
   "metadata": {
    "id": "i6laeM80JM7g"
   },
   "outputs": [],
   "source": [
    "from sklearn.cluster import KMeans\n",
    "from scipy.spatial import distance\n",
    "from sklearn.preprocessing import OneHotEncoder\n",
    "\n",
    "\n",
    "#Determinação da rede:\n",
    "def RBFN(xTrain, yTrain, neurons):\n",
    "    #Determinar centróide dos clusters: (centro das gaussianas de cada neurônio)\n",
    "    K_cent = neurons\n",
    "    km     = KMeans(n_clusters= K_cent, max_iter= 200)\n",
    "    km.fit(xTrain)\n",
    "    cent   = km.cluster_centers_\n",
    "    #Cálculo do sigma:\n",
    "    dist_vector = distance.pdist(cent,'euclidean')\n",
    "    dist_matrix = distance.squareform(dist_vector)\n",
    "    sigma       = dist_matrix.max()/(np.sqrt(2*neurons))\n",
    "    #Codificando a matriz de labels:\n",
    "    encoder  = OneHotEncoder()\n",
    "    yTrain   = encoder.fit_transform(yTrain.reshape(-1,1)).toarray()\n",
    "    #Cálculo da gaussiana em cada dado de treinamento:\n",
    "    shape  = xTrain.shape\n",
    "    row    = shape[0]\n",
    "    column = neurons\n",
    "    phi    = np.zeros((row,column), dtype= float)\n",
    "    for i in range(row):\n",
    "        for j in range(column):\n",
    "            dist     = np.linalg.norm(xTrain[i]-cent[j])\n",
    "            phi[i,j] = np.exp(-(dist**2)/(2*(sigma**2)))\n",
    "    #Cálculo da pseudo-inversa:\n",
    "    w = np.linalg.inv(phi.T @ phi) @ (phi.T @ yTrain)\n",
    "    return w, cent, sigma\n",
    "\n"
   ]
  },
  {
   "cell_type": "code",
   "execution_count": null,
   "metadata": {
    "id": "TwQiwzcUJM-Z"
   },
   "outputs": [],
   "source": [
    "#Eficiência da rede utilizando os valores de w:\n",
    "\n",
    "def RBFN_score(xTest, yTest, w, cent, sigma):\n",
    "    row      = xTest.shape[0]\n",
    "    column   = len(w)\n",
    "    phiTest  = np.zeros((row,column), dtype= float)\n",
    "    for i in range(row):\n",
    "        for j in range(column):\n",
    "            distTest      = np.linalg.norm(xTest[i]-cent[j])\n",
    "            phiTest[i,j]  = np.exp(-(distTest**2)/(2*(sigma**2)))\n",
    "    predTest   = phiTest @ w\n",
    "    prediction = np.zeros([predTest.shape[0],predTest.shape[1]])\n",
    "    for i in range(len(predTest)):\n",
    "        ind = np.where(predTest[i] == max(predTest[i]))\n",
    "        prediction[i,ind] = 1\n",
    "    encoder    = OneHotEncoder()\n",
    "    yTest   = encoder.fit_transform(yTest.reshape(-1,1)).toarray()\n",
    "    prediction = encoder.inverse_transform(prediction)\n",
    "    \n",
    "    return prediction"
   ]
  },
  {
   "cell_type": "code",
   "execution_count": null,
   "metadata": {
    "id": "EkA1y4C_LYAb"
   },
   "outputs": [],
   "source": [
    "w,cent,sigma = RBFN(X_t, y_train1, neurons =141)\n",
    "saida       = RBFN_score(X_v, y_test1, w, cent, sigma)\n",
    "#rbf         = np.sum(saida.reshape(1,len(saida)) == y_test1)/len(saida)"
   ]
  },
  {
   "cell_type": "markdown",
   "metadata": {
    "id": "OK-GiuMsFg6B"
   },
   "source": [
    "# Comparando por acurâcia"
   ]
  },
  {
   "cell_type": "code",
   "execution_count": null,
   "metadata": {
    "id": "0ZyMaWJXFT6A"
   },
   "outputs": [],
   "source": [
    "acc = [accuracy_score(y_test1,y_pred_MLP),accuracy_score(y_test1,y_pred_svm),accuracy_score(y_test1,saida)]"
   ]
  },
  {
   "cell_type": "code",
   "execution_count": null,
   "metadata": {
    "colab": {
     "base_uri": "https://localhost:8080/",
     "height": 539
    },
    "id": "PYYXall1NMzn",
    "outputId": "fde0e375-a997-4a9b-e7e9-5f9d9f207966"
   },
   "outputs": [
    {
     "data": {
      "text/plain": [
       "(0.7, 0.8)"
      ]
     },
     "execution_count": 58,
     "metadata": {
      "tags": []
     },
     "output_type": "execute_result"
    },
    {
     "data": {
      "image/png": "[encoded data removed]",
      "text/plain": [
       "<Figure size 864x576 with 1 Axes>"
      ]
     },
     "metadata": {
      "needs_background": "light",
      "tags": []
     },
     "output_type": "display_data"
    }
   ],
   "source": [
    "plt.rc('ytick', labelsize=18)\n",
    "plt.rc('xtick', labelsize=18)\n",
    "plt.figure(figsize=(12,8))\n",
    "plt.grid(linestyle='--', linewidth=1)\n",
    "plt.ylabel('acurácia', size=22)\n",
    "\n",
    "plt.bar(np.arange(3),np.array(acc),width=0.6, color = 'black')\n",
    "plt.grid(linestyle='--', linewidth=1)\n",
    "plt.ylabel('acurácia', size=22)\n",
    "plt.xlabel('Modelos', size=22)\n",
    "plt.xticks(np.arange(3) ,('MLP', 'SVM', 'RBF'))\n",
    "\n",
    "plt.ylim(0.7,0.8)"
   ]
  },
  {
   "cell_type": "markdown",
   "metadata": {
    "id": "MkrC7zflQOUR"
   },
   "source": [
    "# Olhando o acerto nas classes por modelos\n"
   ]
  },
  {
   "cell_type": "code",
   "execution_count": null,
   "metadata": {
    "id": "hoiAFVBLNzAL"
   },
   "outputs": [],
   "source": [
    "MLP_cl = np.diagonal(confusion_matrix(y_test1,y_pred_MLP))/np.sum(confusion_matrix(y_test1,y_pred_MLP),axis = 0)\n",
    "SVM_cl = np.diagonal(confusion_matrix(y_test1,y_pred_svm))/np.sum(confusion_matrix(y_test1,y_pred_svm),axis = 0)\n",
    "SBF_cl = np.diagonal(confusion_matrix(y_test1,saida))/np.sum(confusion_matrix(y_test1,saida), axis = 0)\n"
   ]
  },
  {
   "cell_type": "code",
   "execution_count": null,
   "metadata": {
    "id": "zFgS34pCSxQk"
   },
   "outputs": [],
   "source": [
    "x = np.arange(len(MLP_cl))"
   ]
  },
  {
   "cell_type": "code",
   "execution_count": null,
   "metadata": {
    "colab": {
     "base_uri": "https://localhost:8080/",
     "height": 532
    },
    "id": "omFAgq61OV-6",
    "outputId": "43927900-799b-483c-9f12-21604e76f3cf"
   },
   "outputs": [
    {
     "data": {
      "text/plain": [
       "(0.5, 0.96)"
      ]
     },
     "execution_count": 97,
     "metadata": {
      "tags": []
     },
     "output_type": "execute_result"
    },
    {
     "data": {
      "image/png": "[encoded data removed]",
      "text/plain": [
       "<Figure size 864x576 with 1 Axes>"
      ]
     },
     "metadata": {
      "needs_background": "light",
      "tags": []
     },
     "output_type": "display_data"
    }
   ],
   "source": [
    "plt.rc('ytick', labelsize=18)\n",
    "plt.rc('xtick', labelsize=18)\n",
    "plt.figure(figsize=(12,8))\n",
    "\n",
    "w = 0.255\n",
    "\n",
    "plt.bar(x + w,SVM_cl, width=0.25, color='black', align='center',label ='SVM')\n",
    "plt.bar(x,MLP_cl, width=0.25, color='red', align='center', label = 'MLP')\n",
    "plt.bar(x+2*w,SBF_cl, width=0.25, color='blue', align='center', label ='RBF')\n",
    "plt.xticks([i + 0.25 for i in x ], ['bending1','bending2','cycling','lying','sitting','standing','walking'])\n",
    "plt.legend(loc='upper right', shadow=True, fontsize=16)\n",
    "plt.grid(linestyle='--', linewidth=1)\n",
    "plt.ylabel('acurácia', size=22)\n",
    "plt.xlabel('Modelos', size=22)\n",
    "plt.ylim(0.5,0.96)"
   ]
  },
  {
   "cell_type": "markdown",
   "metadata": {
    "id": "PswfSbafXccv"
   },
   "source": [
    "Se for olhar o modelo que acerta mais dados, o melhor modelo é a rede MLP, mas se for olhar aquele que acerta mais classes, o classificador que acerta  mais classes é o SVM. Já que o SVM ganha em 4 classes, e a MLP ganha em 3.\n"
   ]
  },
  {
   "cell_type": "code",
   "execution_count": null,
   "metadata": {
    "id": "jpGjOBRfSK4s"
   },
   "outputs": [],
   "source": []
  }
 ],
 "metadata": {
  "colab": {
   "name": "Trabalho_3_parte_3.ipynb",
   "provenance": []
  },
  "kernelspec": {
   "display_name": "Python 3",
   "language": "python",
   "name": "python3"
  },
  "language_info": {
   "codemirror_mode": {
    "name": "ipython",
    "version": 3
   },
   "file_extension": ".py",
   "mimetype": "text/x-python",
   "name": "python",
   "nbconvert_exporter": "python",
   "pygments_lexer": "ipython3",
   "version": "3.8.3"
  }
 },
 "nbformat": 4,
 "nbformat_minor": 1
}
