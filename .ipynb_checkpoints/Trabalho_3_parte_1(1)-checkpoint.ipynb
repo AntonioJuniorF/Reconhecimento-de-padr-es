{
 "cells": [
  {
   "cell_type": "code",
   "execution_count": 1,
   "metadata": {
    "colab": {
     "base_uri": "https://localhost:8080/"
    },
    "id": "CpTmZjAUsc3s",
    "outputId": "d99d606f-275b-41cb-e4de-47eb27ed2dae"
   },
   "outputs": [],
   "source": [
    "import pandas as pd\n",
    "import numpy as np\n",
    "import matplotlib.pyplot as plt\n",
    "import seaborn as sns\n",
    "%matplotlib inline\n",
    "#from google.colab import drive\n",
    "from sklearn.neural_network import MLPClassifier\n",
    "from sklearn.metrics import accuracy_score\n",
    "from sklearn.metrics import confusion_matrix\n",
    "import glob\n",
    "#drive.mount('/content/drive')"
   ]
  },
  {
   "cell_type": "markdown",
   "metadata": {
    "id": "mFUECdfzsyVu"
   },
   "source": [
    "# Informações sobre o banco de dados"
   ]
  },
  {
   "cell_type": "markdown",
   "metadata": {
    "id": "Ocvn73zRuAsx"
   },
   "source": [
    "- Foi proposto que utilizasse o banco de dados do Activity Recognition system based on Multisensor data fusion (AReM) Data Set do UCI repository. \n",
    "\n",
    "- O link da onde foi obtido os dados: https://archive.ics.uci.edu/ml/datasets/Activity+Recognition+system+based+on+Multisensor+data+fusion+%28AReM%29"
   ]
  },
  {
   "cell_type": "markdown",
   "metadata": {
    "id": "6MYvq2W3sD_T"
   },
   "source": [
    "Este banco de dados contém medidas de sensores quando uma pessoa está fazendo um determinado exercício. Estes dados consiste na potência de um sinal que é recebida em intervalos de tempo regulares. Essa potência varia quando o usuário faz algum movimento.\n",
    "\n",
    "Os sensores estão localizados no peito, perna esquerda e perna direita. \n",
    "\n",
    "Uma medida gravada no banco de dados consiste, por exemplo, no tempo x temos a média da potência dos sinais dos sensores que estão localizados nas duas pernas e a sua variância desta medida e sua variância. Logo temos as seguintes combinações de valores: \n",
    "\n",
    "- Média entre o sinal do sensor do peito e da perna direita (***nome da medida : avg_rss12***)\n",
    "- Média entre o sinal do sensor do peito e da perna esquerda avg_rss13 (***nome da media:  avg_rss13***)\n",
    "- Média entre o sinal do sensor da perna esquerda e perna direita (***nome da medida : avg_rss23***)\n",
    "- Variância entre o sinal do sensor do peito e da perna direita (***nome da medida : var_rss12***)\n",
    "- Variância entre o sinal do sensor do peito e da perna esquerda avg_rss13 (***nome da média:  var_rss13***)\n",
    "- Variância entre o sinal do sensor da perna esquerda e perna direita (***nome da medida : var_rss23***)\n",
    "\n",
    "\n",
    "\n",
    "- Os exercícios que são feitos?\n",
    " *   stading (ficar de pé).\n",
    " *   sitting (sentar)\n",
    " *   cycling (ciclismo)\n",
    " *   walking(caminhando)\n",
    " *   bending1 (Dobramento do tipo 1)\n",
    " *   bending2 (Dobramento do tipo 2)\n",
    " *   lying (repouso).   \n",
    "\n"
   ]
  },
  {
   "cell_type": "markdown",
   "metadata": {
    "id": "i5XQl7nUtdwS"
   },
   "source": [
    "Objetivo é classificar se a pessoa está fazendo algum dos exercícios mencionados utilizando os seguintes classificadores:\n",
    "- Redes MLP.\n",
    "- Redes RBF\n",
    "- SVM não-linear com o kernel RBF.\n",
    "Comparar qual deles é o melhor, entre os melhores configurações encontradas de cada classificador.\n",
    "\n",
    "\n",
    "Neste notebook vai de análise exploratória dos dados até a modelagem da rede MLP e SVM.\n"
   ]
  },
  {
   "cell_type": "code",
   "execution_count": null,
   "metadata": {},
   "outputs": [],
   "source": []
  },
  {
   "cell_type": "markdown",
   "metadata": {
    "id": "NnZB8Bjgt04f"
   },
   "source": [
    "# Juntar os dataframe"
   ]
  },
  {
   "cell_type": "markdown",
   "metadata": {
    "id": "IX8L3MKKwNwl"
   },
   "source": [
    "Como são vários arquivos scv, é proposto um algoritmo que junte todos arquivos em um único dataframe."
   ]
  },
  {
   "cell_type": "code",
   "execution_count": 2,
   "metadata": {
    "id": "WUmpesqDziG8"
   },
   "outputs": [],
   "source": [
    "# Carrega todos arquivos scv que estão dentro de uma pasta e os armazena em uma lista \n",
    "def rot_aux(aux,aux1,ind,ind1):\n",
    "    df_a   = pd.read_csv(aux1[ind1], skiprows=[0,1,2,3]) # carregar o dataframe que está dentro da pasta \n",
    "    rotulo = np.array(aux)[ind][29:len(aux[ind])] # rótulo do banco de dados carregado\n",
    "    rot    = [] \n",
    "    for i in range(len(df_a)):\n",
    "        rot.append(rotulo)\n",
    "    df_a['Classes'] = rot # adcionar o rótulo na figura\n",
    "    return df_a"
   ]
  },
  {
   "cell_type": "code",
   "execution_count": 3,
   "metadata": {
    "id": "iqRgQSdgNspP"
   },
   "outputs": [],
   "source": [
    "# Concatena os arquivos que estão na lista que é obtida pela função rot_aux\n",
    "def rotular_df(aux,ind): \n",
    "    a    = aux[ind] +'/*'\n",
    "    aux1 = glob.glob(a) #listar as pastas que contém todos os dados de cada exercício\n",
    "    df = pd.concat([rot_aux(aux,aux1,ind,ind1 = i) for i in range(len(aux1))],ignore_index=True)\n",
    "    return df"
   ]
  },
  {
   "cell_type": "code",
   "execution_count": 4,
   "metadata": {
    "id": "DTdD6MyX1Xz4"
   },
   "outputs": [],
   "source": [
    "aux  = glob.glob('/home/antoniojr/notebooks/AReM/*') #listar as pastas que contém todos os dados de cada exercício\n",
    "df = pd.concat([rotular_df(aux,ind =i) for i in range(len(aux))],ignore_index=True) # dataframe que contém todos os parâmetros "
   ]
  },
  {
   "cell_type": "code",
   "execution_count": 5,
   "metadata": {
    "id": "itqDXuuk3aXe"
   },
   "outputs": [],
   "source": [
    "df=df.drop('# Columns: time', axis=1) # excluindo a coluna que não tenho interesse ((foi visto que os valores se repetem para cada classe) "
   ]
  },
  {
   "cell_type": "code",
   "execution_count": 6,
   "metadata": {
    "colab": {
     "base_uri": "https://localhost:8080/",
     "height": 206
    },
    "id": "Of0hyDMCTYx0",
    "outputId": "33569212-7fee-4d0f-859b-999d33f80b99"
   },
   "outputs": [
    {
     "data": {
      "text/html": [
       "<div>\n",
       "<style scoped>\n",
       "    .dataframe tbody tr th:only-of-type {\n",
       "        vertical-align: middle;\n",
       "    }\n",
       "\n",
       "    .dataframe tbody tr th {\n",
       "        vertical-align: top;\n",
       "    }\n",
       "\n",
       "    .dataframe thead th {\n",
       "        text-align: right;\n",
       "    }\n",
       "</style>\n",
       "<table border=\"1\" class=\"dataframe\">\n",
       "  <thead>\n",
       "    <tr style=\"text-align: right;\">\n",
       "      <th></th>\n",
       "      <th>avg_rss12</th>\n",
       "      <th>var_rss12</th>\n",
       "      <th>avg_rss13</th>\n",
       "      <th>var_rss13</th>\n",
       "      <th>avg_rss23</th>\n",
       "      <th>var_rss23</th>\n",
       "      <th>Classes</th>\n",
       "    </tr>\n",
       "  </thead>\n",
       "  <tbody>\n",
       "    <tr>\n",
       "      <th>0</th>\n",
       "      <td>48.0</td>\n",
       "      <td>0.0</td>\n",
       "      <td>6.25</td>\n",
       "      <td>0.43</td>\n",
       "      <td>2.00</td>\n",
       "      <td>0.71</td>\n",
       "      <td>M/lying</td>\n",
       "    </tr>\n",
       "    <tr>\n",
       "      <th>1</th>\n",
       "      <td>48.0</td>\n",
       "      <td>0.0</td>\n",
       "      <td>6.00</td>\n",
       "      <td>0.00</td>\n",
       "      <td>1.67</td>\n",
       "      <td>0.94</td>\n",
       "      <td>M/lying</td>\n",
       "    </tr>\n",
       "    <tr>\n",
       "      <th>2</th>\n",
       "      <td>48.0</td>\n",
       "      <td>0.0</td>\n",
       "      <td>6.00</td>\n",
       "      <td>0.00</td>\n",
       "      <td>2.00</td>\n",
       "      <td>1.00</td>\n",
       "      <td>M/lying</td>\n",
       "    </tr>\n",
       "    <tr>\n",
       "      <th>3</th>\n",
       "      <td>48.0</td>\n",
       "      <td>0.0</td>\n",
       "      <td>5.25</td>\n",
       "      <td>0.43</td>\n",
       "      <td>2.67</td>\n",
       "      <td>0.94</td>\n",
       "      <td>M/lying</td>\n",
       "    </tr>\n",
       "    <tr>\n",
       "      <th>4</th>\n",
       "      <td>48.0</td>\n",
       "      <td>0.0</td>\n",
       "      <td>5.50</td>\n",
       "      <td>0.50</td>\n",
       "      <td>2.00</td>\n",
       "      <td>0.82</td>\n",
       "      <td>M/lying</td>\n",
       "    </tr>\n",
       "  </tbody>\n",
       "</table>\n",
       "</div>"
      ],
      "text/plain": [
       "   avg_rss12  var_rss12  avg_rss13  var_rss13  avg_rss23  var_rss23  Classes\n",
       "0       48.0        0.0       6.25       0.43       2.00       0.71  M/lying\n",
       "1       48.0        0.0       6.00       0.00       1.67       0.94  M/lying\n",
       "2       48.0        0.0       6.00       0.00       2.00       1.00  M/lying\n",
       "3       48.0        0.0       5.25       0.43       2.67       0.94  M/lying\n",
       "4       48.0        0.0       5.50       0.50       2.00       0.82  M/lying"
      ]
     },
     "execution_count": 6,
     "metadata": {},
     "output_type": "execute_result"
    }
   ],
   "source": [
    "df.head() # olhando o banco de dados "
   ]
  },
  {
   "cell_type": "markdown",
   "metadata": {
    "id": "N1D1YqMTYMvx"
   },
   "source": [
    "# Análise exploratória dos dados\n",
    "As seguintes análises são propostas:\n",
    "* Verificando se a dados faltantes. (ok)\n",
    "* Análise estatística dos dados. Exemplo (ok):\n",
    "  * Valor médio, mediana, desvio padrão, histogramas, matriz de correlação.\n",
    "\n",
    "* Relação dos dados de target em relação aos demais dados.\n",
    "* Verificando a quantidade de dados de cada classe. (ok)\n",
    "* Criando label para cada classe dos dados de target (ok)\n",
    "*Vendo se acurácia  na hora da classificação muda quando é retirado algum parâmetro.\n"
   ]
  },
  {
   "cell_type": "markdown",
   "metadata": {
    "id": "GMg6UAOkY7fI"
   },
   "source": [
    "### Dados faltantes"
   ]
  },
  {
   "cell_type": "code",
   "execution_count": 7,
   "metadata": {
    "colab": {
     "base_uri": "https://localhost:8080/"
    },
    "id": "7n_G6KCLYLLL",
    "outputId": "18869047-c96a-46b3-c5fb-70a22eebe164"
   },
   "outputs": [
    {
     "name": "stdout",
     "output_type": "stream",
     "text": [
      "<class 'pandas.core.frame.DataFrame'>\n",
      "RangeIndex: 42239 entries, 0 to 42238\n",
      "Data columns (total 7 columns):\n",
      "avg_rss12    42239 non-null float64\n",
      "var_rss12    42239 non-null float64\n",
      "avg_rss13    42239 non-null float64\n",
      "var_rss13    42239 non-null float64\n",
      "avg_rss23    42239 non-null float64\n",
      "var_rss23    42239 non-null float64\n",
      "Classes      42239 non-null object\n",
      "dtypes: float64(6), object(1)\n",
      "memory usage: 2.3+ MB\n"
     ]
    }
   ],
   "source": [
    "df.info()"
   ]
  },
  {
   "cell_type": "markdown",
   "metadata": {
    "id": "N3r_5FxTZvJm"
   },
   "source": [
    "### Análise estatistica dos dados"
   ]
  },
  {
   "cell_type": "markdown",
   "metadata": {
    "id": "TClF2H8vcfsx"
   },
   "source": [
    "***Descrição dos dados***"
   ]
  },
  {
   "cell_type": "code",
   "execution_count": 8,
   "metadata": {
    "colab": {
     "base_uri": "https://localhost:8080/",
     "height": 300
    },
    "id": "JXBiFm9AZ0-r",
    "outputId": "76e9f90f-a37d-47d8-eb6f-54c0a668b79c"
   },
   "outputs": [
    {
     "data": {
      "text/html": [
       "<div>\n",
       "<style scoped>\n",
       "    .dataframe tbody tr th:only-of-type {\n",
       "        vertical-align: middle;\n",
       "    }\n",
       "\n",
       "    .dataframe tbody tr th {\n",
       "        vertical-align: top;\n",
       "    }\n",
       "\n",
       "    .dataframe thead th {\n",
       "        text-align: right;\n",
       "    }\n",
       "</style>\n",
       "<table border=\"1\" class=\"dataframe\">\n",
       "  <thead>\n",
       "    <tr style=\"text-align: right;\">\n",
       "      <th></th>\n",
       "      <th>avg_rss12</th>\n",
       "      <th>var_rss12</th>\n",
       "      <th>avg_rss13</th>\n",
       "      <th>var_rss13</th>\n",
       "      <th>avg_rss23</th>\n",
       "      <th>var_rss23</th>\n",
       "    </tr>\n",
       "  </thead>\n",
       "  <tbody>\n",
       "    <tr>\n",
       "      <th>count</th>\n",
       "      <td>42239.000000</td>\n",
       "      <td>42239.000000</td>\n",
       "      <td>42239.000000</td>\n",
       "      <td>42239.000000</td>\n",
       "      <td>42239.000000</td>\n",
       "      <td>42239.000000</td>\n",
       "    </tr>\n",
       "    <tr>\n",
       "      <th>mean</th>\n",
       "      <td>38.917264</td>\n",
       "      <td>1.459145</td>\n",
       "      <td>14.278160</td>\n",
       "      <td>1.502241</td>\n",
       "      <td>16.035170</td>\n",
       "      <td>1.620705</td>\n",
       "    </tr>\n",
       "    <tr>\n",
       "      <th>std</th>\n",
       "      <td>6.337280</td>\n",
       "      <td>2.047973</td>\n",
       "      <td>5.435483</td>\n",
       "      <td>1.639519</td>\n",
       "      <td>6.736022</td>\n",
       "      <td>1.637070</td>\n",
       "    </tr>\n",
       "    <tr>\n",
       "      <th>min</th>\n",
       "      <td>0.000000</td>\n",
       "      <td>0.000000</td>\n",
       "      <td>0.000000</td>\n",
       "      <td>0.000000</td>\n",
       "      <td>0.000000</td>\n",
       "      <td>0.000000</td>\n",
       "    </tr>\n",
       "    <tr>\n",
       "      <th>25%</th>\n",
       "      <td>35.000000</td>\n",
       "      <td>0.400000</td>\n",
       "      <td>11.330000</td>\n",
       "      <td>0.430000</td>\n",
       "      <td>12.000000</td>\n",
       "      <td>0.470000</td>\n",
       "    </tr>\n",
       "    <tr>\n",
       "      <th>50%</th>\n",
       "      <td>39.750000</td>\n",
       "      <td>0.500000</td>\n",
       "      <td>15.000000</td>\n",
       "      <td>0.830000</td>\n",
       "      <td>16.000000</td>\n",
       "      <td>1.000000</td>\n",
       "    </tr>\n",
       "    <tr>\n",
       "      <th>75%</th>\n",
       "      <td>43.750000</td>\n",
       "      <td>1.790000</td>\n",
       "      <td>18.000000</td>\n",
       "      <td>2.290000</td>\n",
       "      <td>19.250000</td>\n",
       "      <td>2.290000</td>\n",
       "    </tr>\n",
       "    <tr>\n",
       "      <th>max</th>\n",
       "      <td>56.250000</td>\n",
       "      <td>17.240000</td>\n",
       "      <td>35.000000</td>\n",
       "      <td>11.420000</td>\n",
       "      <td>40.330000</td>\n",
       "      <td>13.610000</td>\n",
       "    </tr>\n",
       "  </tbody>\n",
       "</table>\n",
       "</div>"
      ],
      "text/plain": [
       "          avg_rss12     var_rss12     avg_rss13     var_rss13     avg_rss23  \\\n",
       "count  42239.000000  42239.000000  42239.000000  42239.000000  42239.000000   \n",
       "mean      38.917264      1.459145     14.278160      1.502241     16.035170   \n",
       "std        6.337280      2.047973      5.435483      1.639519      6.736022   \n",
       "min        0.000000      0.000000      0.000000      0.000000      0.000000   \n",
       "25%       35.000000      0.400000     11.330000      0.430000     12.000000   \n",
       "50%       39.750000      0.500000     15.000000      0.830000     16.000000   \n",
       "75%       43.750000      1.790000     18.000000      2.290000     19.250000   \n",
       "max       56.250000     17.240000     35.000000     11.420000     40.330000   \n",
       "\n",
       "          var_rss23  \n",
       "count  42239.000000  \n",
       "mean       1.620705  \n",
       "std        1.637070  \n",
       "min        0.000000  \n",
       "25%        0.470000  \n",
       "50%        1.000000  \n",
       "75%        2.290000  \n",
       "max       13.610000  "
      ]
     },
     "execution_count": 8,
     "metadata": {},
     "output_type": "execute_result"
    }
   ],
   "source": [
    "df.describe()"
   ]
  },
  {
   "cell_type": "markdown",
   "metadata": {
    "id": "HQId1U4Fcte1"
   },
   "source": [
    "***Histograma dos dados***"
   ]
  },
  {
   "cell_type": "code",
   "execution_count": 9,
   "metadata": {
    "colab": {
     "base_uri": "https://localhost:8080/",
     "height": 812
    },
    "id": "cLw4RhlMZ1Bz",
    "outputId": "1280d537-f0a4-453c-df51-1ada22176a6b"
   },
   "outputs": [
    {
     "data": {
      "image/png": "[encoded data removed]",
      "text/plain": [
       "<Figure size 2160x1296 with 6 Axes>"
      ]
     },
     "metadata": {},
     "output_type": "display_data"
    }
   ],
   "source": [
    "\n",
    "col = df.columns\n",
    "fig = plt.figure(figsize=(30,18))\n",
    "for i in range(1,7):    \n",
    "    fig.add_subplot(2,3,i)\n",
    "    sns.distplot(df[col[i-1]], kde=False) "
   ]
  },
  {
   "cell_type": "markdown",
   "metadata": {
    "id": "p7qaE6W_a5cI"
   },
   "source": [
    "Pelos gráficos pode se observar que parâmetros \"var_rss12\" e \"var_rss13\" possuem um formato semelhante, porém ainda não é possível inferir se um deles pode ser descartado por conter um mesmo tipo de informação. "
   ]
  },
  {
   "cell_type": "markdown",
   "metadata": {
    "id": "Iv17ag6Lc96v"
   },
   "source": [
    "***Matriz de correlação***"
   ]
  },
  {
   "cell_type": "code",
   "execution_count": 10,
   "metadata": {
    "colab": {
     "base_uri": "https://localhost:8080/",
     "height": 169
    },
    "id": "mEgajWCRa4hi",
    "outputId": "4e636deb-ba6b-448d-b9e1-53be5b30d5e1"
   },
   "outputs": [
    {
     "data": {
      "text/html": [
       "<style  type=\"text/css\" >\n",
       "    #T_67ff8cac_40aa_11eb_a23b_c81f66cb612erow0_col0 {\n",
       "            background-color:  #b40426;\n",
       "        }    #T_67ff8cac_40aa_11eb_a23b_c81f66cb612erow0_col1 {\n",
       "            background-color:  #3b4cc0;\n",
       "        }    #T_67ff8cac_40aa_11eb_a23b_c81f66cb612erow0_col2 {\n",
       "            background-color:  #8fb1fe;\n",
       "        }    #T_67ff8cac_40aa_11eb_a23b_c81f66cb612erow0_col3 {\n",
       "            background-color:  #4f69d9;\n",
       "        }    #T_67ff8cac_40aa_11eb_a23b_c81f66cb612erow0_col4 {\n",
       "            background-color:  #96b7ff;\n",
       "        }    #T_67ff8cac_40aa_11eb_a23b_c81f66cb612erow0_col5 {\n",
       "            background-color:  #506bda;\n",
       "        }    #T_67ff8cac_40aa_11eb_a23b_c81f66cb612erow1_col0 {\n",
       "            background-color:  #3b4cc0;\n",
       "        }    #T_67ff8cac_40aa_11eb_a23b_c81f66cb612erow1_col1 {\n",
       "            background-color:  #b40426;\n",
       "        }    #T_67ff8cac_40aa_11eb_a23b_c81f66cb612erow1_col2 {\n",
       "            background-color:  #bcd2f7;\n",
       "        }    #T_67ff8cac_40aa_11eb_a23b_c81f66cb612erow1_col3 {\n",
       "            background-color:  #f7b599;\n",
       "        }    #T_67ff8cac_40aa_11eb_a23b_c81f66cb612erow1_col4 {\n",
       "            background-color:  #a2c1ff;\n",
       "        }    #T_67ff8cac_40aa_11eb_a23b_c81f66cb612erow1_col5 {\n",
       "            background-color:  #f7b79b;\n",
       "        }    #T_67ff8cac_40aa_11eb_a23b_c81f66cb612erow2_col0 {\n",
       "            background-color:  #3b4cc0;\n",
       "        }    #T_67ff8cac_40aa_11eb_a23b_c81f66cb612erow2_col1 {\n",
       "            background-color:  #7396f5;\n",
       "        }    #T_67ff8cac_40aa_11eb_a23b_c81f66cb612erow2_col2 {\n",
       "            background-color:  #b40426;\n",
       "        }    #T_67ff8cac_40aa_11eb_a23b_c81f66cb612erow2_col3 {\n",
       "            background-color:  #536edd;\n",
       "        }    #T_67ff8cac_40aa_11eb_a23b_c81f66cb612erow2_col4 {\n",
       "            background-color:  #d3dbe7;\n",
       "        }    #T_67ff8cac_40aa_11eb_a23b_c81f66cb612erow2_col5 {\n",
       "            background-color:  #7da0f9;\n",
       "        }    #T_67ff8cac_40aa_11eb_a23b_c81f66cb612erow3_col0 {\n",
       "            background-color:  #3b4cc0;\n",
       "        }    #T_67ff8cac_40aa_11eb_a23b_c81f66cb612erow3_col1 {\n",
       "            background-color:  #f6bea4;\n",
       "        }    #T_67ff8cac_40aa_11eb_a23b_c81f66cb612erow3_col2 {\n",
       "            background-color:  #92b4fe;\n",
       "        }    #T_67ff8cac_40aa_11eb_a23b_c81f66cb612erow3_col3 {\n",
       "            background-color:  #b40426;\n",
       "        }    #T_67ff8cac_40aa_11eb_a23b_c81f66cb612erow3_col4 {\n",
       "            background-color:  #9abbff;\n",
       "        }    #T_67ff8cac_40aa_11eb_a23b_c81f66cb612erow3_col5 {\n",
       "            background-color:  #f5c1a9;\n",
       "        }    #T_67ff8cac_40aa_11eb_a23b_c81f66cb612erow4_col0 {\n",
       "            background-color:  #4961d2;\n",
       "        }    #T_67ff8cac_40aa_11eb_a23b_c81f66cb612erow4_col1 {\n",
       "            background-color:  #5875e1;\n",
       "        }    #T_67ff8cac_40aa_11eb_a23b_c81f66cb612erow4_col2 {\n",
       "            background-color:  #d6dce4;\n",
       "        }    #T_67ff8cac_40aa_11eb_a23b_c81f66cb612erow4_col3 {\n",
       "            background-color:  #6282ea;\n",
       "        }    #T_67ff8cac_40aa_11eb_a23b_c81f66cb612erow4_col4 {\n",
       "            background-color:  #b40426;\n",
       "        }    #T_67ff8cac_40aa_11eb_a23b_c81f66cb612erow4_col5 {\n",
       "            background-color:  #3b4cc0;\n",
       "        }    #T_67ff8cac_40aa_11eb_a23b_c81f66cb612erow5_col0 {\n",
       "            background-color:  #3b4cc0;\n",
       "        }    #T_67ff8cac_40aa_11eb_a23b_c81f66cb612erow5_col1 {\n",
       "            background-color:  #f6bfa6;\n",
       "        }    #T_67ff8cac_40aa_11eb_a23b_c81f66cb612erow5_col2 {\n",
       "            background-color:  #b3cdfb;\n",
       "        }    #T_67ff8cac_40aa_11eb_a23b_c81f66cb612erow5_col3 {\n",
       "            background-color:  #f5c1a9;\n",
       "        }    #T_67ff8cac_40aa_11eb_a23b_c81f66cb612erow5_col4 {\n",
       "            background-color:  #7396f5;\n",
       "        }    #T_67ff8cac_40aa_11eb_a23b_c81f66cb612erow5_col5 {\n",
       "            background-color:  #b40426;\n",
       "        }</style>  \n",
       "<table id=\"T_67ff8cac_40aa_11eb_a23b_c81f66cb612e\" > \n",
       "<thead>    <tr> \n",
       "        <th class=\"blank level0\" ></th> \n",
       "        <th class=\"col_heading level0 col0\" >avg_rss12</th> \n",
       "        <th class=\"col_heading level0 col1\" >var_rss12</th> \n",
       "        <th class=\"col_heading level0 col2\" >avg_rss13</th> \n",
       "        <th class=\"col_heading level0 col3\" >var_rss13</th> \n",
       "        <th class=\"col_heading level0 col4\" >avg_rss23</th> \n",
       "        <th class=\"col_heading level0 col5\" >var_rss23</th> \n",
       "    </tr></thead> \n",
       "<tbody>    <tr> \n",
       "        <th id=\"T_67ff8cac_40aa_11eb_a23b_c81f66cb612elevel0_row0\" class=\"row_heading level0 row0\" >avg_rss12</th> \n",
       "        <td id=\"T_67ff8cac_40aa_11eb_a23b_c81f66cb612erow0_col0\" class=\"data row0 col0\" >1.0</td> \n",
       "        <td id=\"T_67ff8cac_40aa_11eb_a23b_c81f66cb612erow0_col1\" class=\"data row0 col1\" >-0.39</td> \n",
       "        <td id=\"T_67ff8cac_40aa_11eb_a23b_c81f66cb612erow0_col2\" class=\"data row0 col2\" >-0.033</td> \n",
       "        <td id=\"T_67ff8cac_40aa_11eb_a23b_c81f66cb612erow0_col3\" class=\"data row0 col3\" >-0.29</td> \n",
       "        <td id=\"T_67ff8cac_40aa_11eb_a23b_c81f66cb612erow0_col4\" class=\"data row0 col4\" >-0.0041</td> \n",
       "        <td id=\"T_67ff8cac_40aa_11eb_a23b_c81f66cb612erow0_col5\" class=\"data row0 col5\" >-0.29</td> \n",
       "    </tr>    <tr> \n",
       "        <th id=\"T_67ff8cac_40aa_11eb_a23b_c81f66cb612elevel0_row1\" class=\"row_heading level0 row1\" >var_rss12</th> \n",
       "        <td id=\"T_67ff8cac_40aa_11eb_a23b_c81f66cb612erow1_col0\" class=\"data row1 col0\" >-0.39</td> \n",
       "        <td id=\"T_67ff8cac_40aa_11eb_a23b_c81f66cb612erow1_col1\" class=\"data row1 col1\" >1.0</td> \n",
       "        <td id=\"T_67ff8cac_40aa_11eb_a23b_c81f66cb612erow1_col2\" class=\"data row1 col2\" >0.15</td> \n",
       "        <td id=\"T_67ff8cac_40aa_11eb_a23b_c81f66cb612erow1_col3\" class=\"data row1 col3\" >0.55</td> \n",
       "        <td id=\"T_67ff8cac_40aa_11eb_a23b_c81f66cb612erow1_col4\" class=\"data row1 col4\" >0.046</td> \n",
       "        <td id=\"T_67ff8cac_40aa_11eb_a23b_c81f66cb612erow1_col5\" class=\"data row1 col5\" >0.54</td> \n",
       "    </tr>    <tr> \n",
       "        <th id=\"T_67ff8cac_40aa_11eb_a23b_c81f66cb612elevel0_row2\" class=\"row_heading level0 row2\" >avg_rss13</th> \n",
       "        <td id=\"T_67ff8cac_40aa_11eb_a23b_c81f66cb612erow2_col0\" class=\"data row2 col0\" >-0.033</td> \n",
       "        <td id=\"T_67ff8cac_40aa_11eb_a23b_c81f66cb612erow2_col1\" class=\"data row2 col1\" >0.15</td> \n",
       "        <td id=\"T_67ff8cac_40aa_11eb_a23b_c81f66cb612erow2_col2\" class=\"data row2 col2\" >1.0</td> \n",
       "        <td id=\"T_67ff8cac_40aa_11eb_a23b_c81f66cb612erow2_col3\" class=\"data row2 col3\" >0.05</td> \n",
       "        <td id=\"T_67ff8cac_40aa_11eb_a23b_c81f66cb612erow2_col4\" class=\"data row2 col4\" >0.44</td> \n",
       "        <td id=\"T_67ff8cac_40aa_11eb_a23b_c81f66cb612erow2_col5\" class=\"data row2 col5\" >0.18</td> \n",
       "    </tr>    <tr> \n",
       "        <th id=\"T_67ff8cac_40aa_11eb_a23b_c81f66cb612elevel0_row3\" class=\"row_heading level0 row3\" >var_rss13</th> \n",
       "        <td id=\"T_67ff8cac_40aa_11eb_a23b_c81f66cb612erow3_col0\" class=\"data row3 col0\" >-0.29</td> \n",
       "        <td id=\"T_67ff8cac_40aa_11eb_a23b_c81f66cb612erow3_col1\" class=\"data row3 col1\" >0.55</td> \n",
       "        <td id=\"T_67ff8cac_40aa_11eb_a23b_c81f66cb612erow3_col2\" class=\"data row3 col2\" >0.05</td> \n",
       "        <td id=\"T_67ff8cac_40aa_11eb_a23b_c81f66cb612erow3_col3\" class=\"data row3 col3\" >1.0</td> \n",
       "        <td id=\"T_67ff8cac_40aa_11eb_a23b_c81f66cb612erow3_col4\" class=\"data row3 col4\" >0.079</td> \n",
       "        <td id=\"T_67ff8cac_40aa_11eb_a23b_c81f66cb612erow3_col5\" class=\"data row3 col5\" >0.53</td> \n",
       "    </tr>    <tr> \n",
       "        <th id=\"T_67ff8cac_40aa_11eb_a23b_c81f66cb612elevel0_row4\" class=\"row_heading level0 row4\" >avg_rss23</th> \n",
       "        <td id=\"T_67ff8cac_40aa_11eb_a23b_c81f66cb612erow4_col0\" class=\"data row4 col0\" >-0.0041</td> \n",
       "        <td id=\"T_67ff8cac_40aa_11eb_a23b_c81f66cb612erow4_col1\" class=\"data row4 col1\" >0.046</td> \n",
       "        <td id=\"T_67ff8cac_40aa_11eb_a23b_c81f66cb612erow4_col2\" class=\"data row4 col2\" >0.44</td> \n",
       "        <td id=\"T_67ff8cac_40aa_11eb_a23b_c81f66cb612erow4_col3\" class=\"data row4 col3\" >0.079</td> \n",
       "        <td id=\"T_67ff8cac_40aa_11eb_a23b_c81f66cb612erow4_col4\" class=\"data row4 col4\" >1.0</td> \n",
       "        <td id=\"T_67ff8cac_40aa_11eb_a23b_c81f66cb612erow4_col5\" class=\"data row4 col5\" >-0.055</td> \n",
       "    </tr>    <tr> \n",
       "        <th id=\"T_67ff8cac_40aa_11eb_a23b_c81f66cb612elevel0_row5\" class=\"row_heading level0 row5\" >var_rss23</th> \n",
       "        <td id=\"T_67ff8cac_40aa_11eb_a23b_c81f66cb612erow5_col0\" class=\"data row5 col0\" >-0.29</td> \n",
       "        <td id=\"T_67ff8cac_40aa_11eb_a23b_c81f66cb612erow5_col1\" class=\"data row5 col1\" >0.54</td> \n",
       "        <td id=\"T_67ff8cac_40aa_11eb_a23b_c81f66cb612erow5_col2\" class=\"data row5 col2\" >0.18</td> \n",
       "        <td id=\"T_67ff8cac_40aa_11eb_a23b_c81f66cb612erow5_col3\" class=\"data row5 col3\" >0.53</td> \n",
       "        <td id=\"T_67ff8cac_40aa_11eb_a23b_c81f66cb612erow5_col4\" class=\"data row5 col4\" >-0.055</td> \n",
       "        <td id=\"T_67ff8cac_40aa_11eb_a23b_c81f66cb612erow5_col5\" class=\"data row5 col5\" >1.0</td> \n",
       "    </tr></tbody> \n",
       "</table> "
      ],
      "text/plain": [
       "<pandas.io.formats.style.Styler at 0x7fb39dafe3c8>"
      ]
     },
     "execution_count": 10,
     "metadata": {},
     "output_type": "execute_result"
    }
   ],
   "source": [
    "df.corr().style.format(\"{:.2}\").background_gradient(cmap=plt.get_cmap('coolwarm'),axis=1)"
   ]
  },
  {
   "cell_type": "markdown",
   "metadata": {
    "id": "tzRrC8_oddyT"
   },
   "source": [
    "Não existem variáveis com correlação forte entre si, logo não posso considerar pela informação da correlação que a mesma informação entre duas variáveis. "
   ]
  },
  {
   "cell_type": "markdown",
   "metadata": {
    "id": "HjQdbWr2gIVI"
   },
   "source": [
    "### Relação dos dados de target com as outras variáveis \n",
    "\n"
   ]
  },
  {
   "cell_type": "code",
   "execution_count": 11,
   "metadata": {
    "colab": {
     "base_uri": "https://localhost:8080/",
     "height": 300
    },
    "id": "ePUL9PwUPlej",
    "outputId": "b56abd76-10a1-4eb0-b70a-e3de42b944a9"
   },
   "outputs": [
    {
     "data": {
      "text/html": [
       "<div>\n",
       "<style scoped>\n",
       "    .dataframe tbody tr th:only-of-type {\n",
       "        vertical-align: middle;\n",
       "    }\n",
       "\n",
       "    .dataframe tbody tr th {\n",
       "        vertical-align: top;\n",
       "    }\n",
       "\n",
       "    .dataframe thead th {\n",
       "        text-align: right;\n",
       "    }\n",
       "</style>\n",
       "<table border=\"1\" class=\"dataframe\">\n",
       "  <thead>\n",
       "    <tr style=\"text-align: right;\">\n",
       "      <th></th>\n",
       "      <th>avg_rss12</th>\n",
       "      <th>var_rss12</th>\n",
       "      <th>avg_rss13</th>\n",
       "      <th>var_rss13</th>\n",
       "      <th>avg_rss23</th>\n",
       "      <th>var_rss23</th>\n",
       "    </tr>\n",
       "    <tr>\n",
       "      <th>Classes</th>\n",
       "      <th></th>\n",
       "      <th></th>\n",
       "      <th></th>\n",
       "      <th></th>\n",
       "      <th></th>\n",
       "      <th></th>\n",
       "    </tr>\n",
       "  </thead>\n",
       "  <tbody>\n",
       "    <tr>\n",
       "      <th>M/bending1</th>\n",
       "      <td>42.667723</td>\n",
       "      <td>0.454360</td>\n",
       "      <td>19.158830</td>\n",
       "      <td>0.793399</td>\n",
       "      <td>30.201982</td>\n",
       "      <td>0.552390</td>\n",
       "    </tr>\n",
       "    <tr>\n",
       "      <th>M/bending2</th>\n",
       "      <td>29.415344</td>\n",
       "      <td>0.447622</td>\n",
       "      <td>15.326375</td>\n",
       "      <td>0.755219</td>\n",
       "      <td>18.728476</td>\n",
       "      <td>0.981906</td>\n",
       "    </tr>\n",
       "    <tr>\n",
       "      <th>M/cycling</th>\n",
       "      <td>36.747143</td>\n",
       "      <td>2.688332</td>\n",
       "      <td>16.396611</td>\n",
       "      <td>2.989278</td>\n",
       "      <td>17.398582</td>\n",
       "      <td>3.037336</td>\n",
       "    </tr>\n",
       "    <tr>\n",
       "      <th>M/lying</th>\n",
       "      <td>39.850217</td>\n",
       "      <td>0.343333</td>\n",
       "      <td>7.264876</td>\n",
       "      <td>0.580935</td>\n",
       "      <td>9.258135</td>\n",
       "      <td>0.660632</td>\n",
       "    </tr>\n",
       "    <tr>\n",
       "      <th>M/sitting</th>\n",
       "      <td>41.748485</td>\n",
       "      <td>0.401425</td>\n",
       "      <td>14.864027</td>\n",
       "      <td>0.750731</td>\n",
       "      <td>16.101104</td>\n",
       "      <td>0.902893</td>\n",
       "    </tr>\n",
       "    <tr>\n",
       "      <th>M/standing</th>\n",
       "      <td>43.857747</td>\n",
       "      <td>0.398604</td>\n",
       "      <td>14.773876</td>\n",
       "      <td>0.616150</td>\n",
       "      <td>13.704479</td>\n",
       "      <td>0.913015</td>\n",
       "    </tr>\n",
       "    <tr>\n",
       "      <th>M/walking</th>\n",
       "      <td>34.433676</td>\n",
       "      <td>4.337393</td>\n",
       "      <td>15.394560</td>\n",
       "      <td>3.203608</td>\n",
       "      <td>16.025058</td>\n",
       "      <td>3.343613</td>\n",
       "    </tr>\n",
       "  </tbody>\n",
       "</table>\n",
       "</div>"
      ],
      "text/plain": [
       "            avg_rss12  var_rss12  avg_rss13  var_rss13  avg_rss23  var_rss23\n",
       "Classes                                                                     \n",
       "M/bending1  42.667723   0.454360  19.158830   0.793399  30.201982   0.552390\n",
       "M/bending2  29.415344   0.447622  15.326375   0.755219  18.728476   0.981906\n",
       "M/cycling   36.747143   2.688332  16.396611   2.989278  17.398582   3.037336\n",
       "M/lying     39.850217   0.343333   7.264876   0.580935   9.258135   0.660632\n",
       "M/sitting   41.748485   0.401425  14.864027   0.750731  16.101104   0.902893\n",
       "M/standing  43.857747   0.398604  14.773876   0.616150  13.704479   0.913015\n",
       "M/walking   34.433676   4.337393  15.394560   3.203608  16.025058   3.343613"
      ]
     },
     "execution_count": 11,
     "metadata": {},
     "output_type": "execute_result"
    }
   ],
   "source": [
    "\n",
    "df.groupby(['Classes'])[df.columns[:-1]].mean()"
   ]
  },
  {
   "cell_type": "code",
   "execution_count": 12,
   "metadata": {
    "colab": {
     "base_uri": "https://localhost:8080/",
     "height": 300
    },
    "id": "POdlOjsUQMF1",
    "outputId": "4bd6ce57-2ceb-4010-a645-6081889e8d5d"
   },
   "outputs": [
    {
     "data": {
      "text/html": [
       "<div>\n",
       "<style scoped>\n",
       "    .dataframe tbody tr th:only-of-type {\n",
       "        vertical-align: middle;\n",
       "    }\n",
       "\n",
       "    .dataframe tbody tr th {\n",
       "        vertical-align: top;\n",
       "    }\n",
       "\n",
       "    .dataframe thead th {\n",
       "        text-align: right;\n",
       "    }\n",
       "</style>\n",
       "<table border=\"1\" class=\"dataframe\">\n",
       "  <thead>\n",
       "    <tr style=\"text-align: right;\">\n",
       "      <th></th>\n",
       "      <th>avg_rss12</th>\n",
       "      <th>var_rss12</th>\n",
       "      <th>avg_rss13</th>\n",
       "      <th>var_rss13</th>\n",
       "      <th>avg_rss23</th>\n",
       "      <th>var_rss23</th>\n",
       "    </tr>\n",
       "    <tr>\n",
       "      <th>Classes</th>\n",
       "      <th></th>\n",
       "      <th></th>\n",
       "      <th></th>\n",
       "      <th></th>\n",
       "      <th></th>\n",
       "      <th></th>\n",
       "    </tr>\n",
       "  </thead>\n",
       "  <tbody>\n",
       "    <tr>\n",
       "      <th>M/bending1</th>\n",
       "      <td>2.361918</td>\n",
       "      <td>0.400185</td>\n",
       "      <td>4.553348</td>\n",
       "      <td>0.915341</td>\n",
       "      <td>5.761234</td>\n",
       "      <td>0.543230</td>\n",
       "    </tr>\n",
       "    <tr>\n",
       "      <th>M/bending2</th>\n",
       "      <td>5.654294</td>\n",
       "      <td>0.696356</td>\n",
       "      <td>6.575649</td>\n",
       "      <td>0.916931</td>\n",
       "      <td>5.899880</td>\n",
       "      <td>0.966435</td>\n",
       "    </tr>\n",
       "    <tr>\n",
       "      <th>M/cycling</th>\n",
       "      <td>3.821135</td>\n",
       "      <td>1.934536</td>\n",
       "      <td>3.606656</td>\n",
       "      <td>1.708521</td>\n",
       "      <td>3.302940</td>\n",
       "      <td>1.764949</td>\n",
       "    </tr>\n",
       "    <tr>\n",
       "      <th>M/lying</th>\n",
       "      <td>7.587485</td>\n",
       "      <td>0.376233</td>\n",
       "      <td>3.847125</td>\n",
       "      <td>0.668262</td>\n",
       "      <td>5.107438</td>\n",
       "      <td>0.575736</td>\n",
       "    </tr>\n",
       "    <tr>\n",
       "      <th>M/sitting</th>\n",
       "      <td>4.154320</td>\n",
       "      <td>0.420755</td>\n",
       "      <td>5.209214</td>\n",
       "      <td>0.867957</td>\n",
       "      <td>5.005339</td>\n",
       "      <td>0.846490</td>\n",
       "    </tr>\n",
       "    <tr>\n",
       "      <th>M/standing</th>\n",
       "      <td>2.626211</td>\n",
       "      <td>0.376943</td>\n",
       "      <td>3.984945</td>\n",
       "      <td>0.723276</td>\n",
       "      <td>3.908023</td>\n",
       "      <td>0.738799</td>\n",
       "    </tr>\n",
       "    <tr>\n",
       "      <th>M/walking</th>\n",
       "      <td>4.808603</td>\n",
       "      <td>2.443454</td>\n",
       "      <td>2.912519</td>\n",
       "      <td>1.624394</td>\n",
       "      <td>3.112483</td>\n",
       "      <td>1.701237</td>\n",
       "    </tr>\n",
       "  </tbody>\n",
       "</table>\n",
       "</div>"
      ],
      "text/plain": [
       "            avg_rss12  var_rss12  avg_rss13  var_rss13  avg_rss23  var_rss23\n",
       "Classes                                                                     \n",
       "M/bending1   2.361918   0.400185   4.553348   0.915341   5.761234   0.543230\n",
       "M/bending2   5.654294   0.696356   6.575649   0.916931   5.899880   0.966435\n",
       "M/cycling    3.821135   1.934536   3.606656   1.708521   3.302940   1.764949\n",
       "M/lying      7.587485   0.376233   3.847125   0.668262   5.107438   0.575736\n",
       "M/sitting    4.154320   0.420755   5.209214   0.867957   5.005339   0.846490\n",
       "M/standing   2.626211   0.376943   3.984945   0.723276   3.908023   0.738799\n",
       "M/walking    4.808603   2.443454   2.912519   1.624394   3.112483   1.701237"
      ]
     },
     "execution_count": 12,
     "metadata": {},
     "output_type": "execute_result"
    }
   ],
   "source": [
    "df.groupby(['Classes'])[df.columns[:-1]].std()"
   ]
  },
  {
   "cell_type": "code",
   "execution_count": 13,
   "metadata": {
    "colab": {
     "base_uri": "https://localhost:8080/",
     "height": 918
    },
    "id": "MWtRFQjXZ1FS",
    "outputId": "45374792-6335-490f-ee2d-83d3f912d186"
   },
   "outputs": [
    {
     "data": {
      "image/png": "[encoded data removed]",
      "text/plain": [
       "<Figure size 2880x2880 with 6 Axes>"
      ]
     },
     "metadata": {},
     "output_type": "display_data"
    }
   ],
   "source": [
    "plt.figure(figsize=[40,40])\n",
    "for i in range(len(df.columns)-1):\n",
    "  plt.subplot(4,2,1 + i)\n",
    "  sns.boxplot(x ='Classes',y =df.columns[i],data=df, palette='rainbow')"
   ]
  },
  {
   "cell_type": "markdown",
   "metadata": {
    "id": "1SJFNbWNnm78"
   },
   "source": [
    "### quantidade de dados por classe"
   ]
  },
  {
   "cell_type": "code",
   "execution_count": 14,
   "metadata": {
    "colab": {
     "base_uri": "https://localhost:8080/"
    },
    "id": "wblIEjqvYLOp",
    "outputId": "14fd3778-4d31-4dd3-c635-db6c90a3d121"
   },
   "outputs": [
    {
     "data": {
      "text/plain": [
       "M/cycling     1.000000\n",
       "M/walking     1.000000\n",
       "M/lying       1.000000\n",
       "M/standing    1.000000\n",
       "M/sitting     0.999861\n",
       "M/bending1    0.466667\n",
       "M/bending2    0.400000\n",
       "Name: Classes, dtype: float64"
      ]
     },
     "execution_count": 14,
     "metadata": {},
     "output_type": "execute_result"
    }
   ],
   "source": [
    "df['Classes'].value_counts()/max(df['Classes'].value_counts())"
   ]
  },
  {
   "cell_type": "markdown",
   "metadata": {
    "id": "8cp3yEO3g19U"
   },
   "source": [
    "Mesmo tendo um desequilíbrio de classe no banco de dados, este fato não é um fator preocupante. Pois a classe com o menor número  de eventos possui em termos de contagem 40 % do tamanho da maior classe ."
   ]
  },
  {
   "cell_type": "markdown",
   "metadata": {
    "id": "fADgcbhKTVRV"
   },
   "source": [
    "## Criando as label"
   ]
  },
  {
   "cell_type": "code",
   "execution_count": 15,
   "metadata": {
    "id": "mmOGMgw0Tc-d"
   },
   "outputs": [],
   "source": [
    "y = []\n",
    "for i in range(len(df['Classes'].unique())):\n",
    "    cont1 = np.ones((np.sum(np.array(df['Classes'].unique()[i] == df['Classes'])),1))*[i]\n",
    "    y.append(cont1)"
   ]
  },
  {
   "cell_type": "code",
   "execution_count": 16,
   "metadata": {
    "id": "7ZZrJ8-DTpF4"
   },
   "outputs": [],
   "source": [
    "df['Classes'] = np.concatenate(y)"
   ]
  },
  {
   "cell_type": "code",
   "execution_count": 17,
   "metadata": {
    "id": "IC78a_JURaQU"
   },
   "outputs": [
    {
     "data": {
      "text/html": [
       "<div>\n",
       "<style scoped>\n",
       "    .dataframe tbody tr th:only-of-type {\n",
       "        vertical-align: middle;\n",
       "    }\n",
       "\n",
       "    .dataframe tbody tr th {\n",
       "        vertical-align: top;\n",
       "    }\n",
       "\n",
       "    .dataframe thead th {\n",
       "        text-align: right;\n",
       "    }\n",
       "</style>\n",
       "<table border=\"1\" class=\"dataframe\">\n",
       "  <thead>\n",
       "    <tr style=\"text-align: right;\">\n",
       "      <th></th>\n",
       "      <th>avg_rss12</th>\n",
       "      <th>var_rss12</th>\n",
       "      <th>avg_rss13</th>\n",
       "      <th>var_rss13</th>\n",
       "      <th>avg_rss23</th>\n",
       "      <th>var_rss23</th>\n",
       "      <th>Classes</th>\n",
       "    </tr>\n",
       "  </thead>\n",
       "  <tbody>\n",
       "    <tr>\n",
       "      <th>0</th>\n",
       "      <td>48.0</td>\n",
       "      <td>0.0</td>\n",
       "      <td>6.25</td>\n",
       "      <td>0.43</td>\n",
       "      <td>2.00</td>\n",
       "      <td>0.71</td>\n",
       "      <td>0.0</td>\n",
       "    </tr>\n",
       "    <tr>\n",
       "      <th>1</th>\n",
       "      <td>48.0</td>\n",
       "      <td>0.0</td>\n",
       "      <td>6.00</td>\n",
       "      <td>0.00</td>\n",
       "      <td>1.67</td>\n",
       "      <td>0.94</td>\n",
       "      <td>0.0</td>\n",
       "    </tr>\n",
       "    <tr>\n",
       "      <th>2</th>\n",
       "      <td>48.0</td>\n",
       "      <td>0.0</td>\n",
       "      <td>6.00</td>\n",
       "      <td>0.00</td>\n",
       "      <td>2.00</td>\n",
       "      <td>1.00</td>\n",
       "      <td>0.0</td>\n",
       "    </tr>\n",
       "    <tr>\n",
       "      <th>3</th>\n",
       "      <td>48.0</td>\n",
       "      <td>0.0</td>\n",
       "      <td>5.25</td>\n",
       "      <td>0.43</td>\n",
       "      <td>2.67</td>\n",
       "      <td>0.94</td>\n",
       "      <td>0.0</td>\n",
       "    </tr>\n",
       "    <tr>\n",
       "      <th>4</th>\n",
       "      <td>48.0</td>\n",
       "      <td>0.0</td>\n",
       "      <td>5.50</td>\n",
       "      <td>0.50</td>\n",
       "      <td>2.00</td>\n",
       "      <td>0.82</td>\n",
       "      <td>0.0</td>\n",
       "    </tr>\n",
       "  </tbody>\n",
       "</table>\n",
       "</div>"
      ],
      "text/plain": [
       "   avg_rss12  var_rss12  avg_rss13  var_rss13  avg_rss23  var_rss23  Classes\n",
       "0       48.0        0.0       6.25       0.43       2.00       0.71      0.0\n",
       "1       48.0        0.0       6.00       0.00       1.67       0.94      0.0\n",
       "2       48.0        0.0       6.00       0.00       2.00       1.00      0.0\n",
       "3       48.0        0.0       5.25       0.43       2.67       0.94      0.0\n",
       "4       48.0        0.0       5.50       0.50       2.00       0.82      0.0"
      ]
     },
     "execution_count": 17,
     "metadata": {},
     "output_type": "execute_result"
    }
   ],
   "source": [
    "df.head()"
   ]
  },
  {
   "cell_type": "markdown",
   "metadata": {
    "id": "UsLmzAQjpZui"
   },
   "source": [
    "# Modelagem dos modelos\n",
    "\n",
    "### Separando os dados de treinamento, teste."
   ]
  },
  {
   "cell_type": "code",
   "execution_count": 18,
   "metadata": {
    "id": "s13FHwOtolQx"
   },
   "outputs": [],
   "source": [
    "from sklearn.model_selection import train_test_split "
   ]
  },
  {
   "cell_type": "code",
   "execution_count": null,
   "metadata": {
    "id": "RIM6yGIdqLZL"
   },
   "outputs": [],
   "source": [
    "X_train1, X_teste1, y_train1, y_teste1 = train_test_split(df[df.columns[0:-1]].values, np.ravel(df['Classes']), test_size=0.70, random_state=101) # dados do treinamento"
   ]
  },
  {
   "cell_type": "markdown",
   "metadata": {
    "id": "EVbNqgiLpPk2"
   },
   "source": [
    "Foi separado 70 % dos dados para treinamento, 30 % para teste."
   ]
  },
  {
   "cell_type": "code",
   "execution_count": 20,
   "metadata": {
    "id": "rgc4xmxJsEGM"
   },
   "outputs": [],
   "source": [
    "from sklearn.preprocessing import StandardScaler\n",
    "from sklearn.model_selection import KFold"
   ]
  },
  {
   "cell_type": "markdown",
   "metadata": {},
   "source": [
    "# Modelando a rede neural MLP"
   ]
  },
  {
   "cell_type": "code",
   "execution_count": 21,
   "metadata": {},
   "outputs": [],
   "source": [
    "kf = KFold(n_splits=5) # selecionado 5 folds para realizar a validação cruzada"
   ]
  },
  {
   "cell_type": "code",
   "execution_count": 22,
   "metadata": {},
   "outputs": [
    {
     "name": "stdout",
     "output_type": "stream",
     "text": [
      "1\n",
      "2\n",
      "3\n",
      "4\n",
      "5\n"
     ]
    }
   ],
   "source": [
    "neurons      = range(1,155,5)\n",
    "acerto_v1    = np.zeros((5,len(neurons)))\n",
    "acerto_v2    = np.zeros((5,len(neurons)))\n",
    "acerto_v3    = np.zeros((5,len(neurons)))\n",
    "acerto_t     = np.zeros((5,len(neurons)))\n",
    "scaler       = StandardScaler() \n",
    "j = 0\n",
    "for linhas_treino, linhas_valid in kf.split(X_train1):\n",
    "    \n",
    "    X_t, X_v = X_train1[linhas_treino], X_train1[linhas_valid]\n",
    "    y_t, y_v = y_train1[linhas_treino], y_train1[linhas_valid]\n",
    "    # como todos os classificadores são baseados em distância, vou normalizar os dados \n",
    "    X_t     = scaler.fit_transform(X_t) # dados de treinamento normalizado\n",
    "    X_v     = scaler.fit_transform(X_v) # dados de validação normalizado\n",
    "    #y_t = y_t\n",
    "    #y_v = y_v\n",
    "    for i in range(len(neurons)):\n",
    "        clf = MLPClassifier(hidden_layer_sizes=neurons[i], solver='adam', alpha=1e-5, random_state=1, max_iter=1000)\n",
    "        #clf.fit(X_t, y_t)\n",
    "        #acerto_t[j][i]  = clf.score(X_t,y_t)\n",
    "        clf.fit(X_t, y_t)\n",
    "        \n",
    "        y_pred = clf.predict(X_v)\n",
    "        #accuracy_score(y_true, y_pred)\n",
    "        acerto_v1[j][i]  = accuracy_score(y_v,y_pred)\n",
    "        \n",
    "        clf = MLPClassifier(hidden_layer_sizes=(neurons[i],neurons[i]), solver='adam', alpha=1e-5, random_state=1, max_iter=1000)\n",
    "        #clf.fit(X_t, y_t)\n",
    "        #acerto_t[j][i]  = clf.score(X_t,y_t)\n",
    "        clf.fit(X_t, y_t)        \n",
    "        y_pred = clf.predict(X_v)\n",
    "        #accuracy_score(y_true, y_pred)\n",
    "        acerto_v2[j][i]  = accuracy_score(y_v,y_pred)\n",
    "        \n",
    "        clf = MLPClassifier(hidden_layer_sizes=(neurons[i],neurons[i],neurons[i]), solver='adam', alpha=1e-5, random_state=1, max_iter=1000)\n",
    "        clf.fit(X_t, y_t)        \n",
    "        y_pred = clf.predict(X_v)\n",
    "        #accuracy_score(y_true, y_pred)\n",
    "        acerto_v3[j][i]  = accuracy_score(y_v,y_pred)\n",
    "        \n",
    "        \n",
    "        \n",
    "        \n",
    "    j =  j + 1\n",
    "    print(j)"
   ]
  },
  {
   "cell_type": "code",
   "execution_count": 68,
   "metadata": {},
   "outputs": [
    {
     "data": {
      "text/plain": [
       "(0, 0.8)"
      ]
     },
     "execution_count": 68,
     "metadata": {},
     "output_type": "execute_result"
    },
    {
     "data": {
      "image/png": "[encoded data removed]",
      "text/plain": [
       "<Figure size 864x576 with 1 Axes>"
      ]
     },
     "metadata": {},
     "output_type": "display_data"
    }
   ],
   "source": [
    "plt.rc('ytick', labelsize=18)\n",
    "plt.rc('xtick', labelsize=18)\n",
    "plt.figure(figsize=(12,8))\n",
    "plt.errorbar(range(1,155,5),np.mean(acerto_v1,axis= 0),np.std(acerto_v1,axis= 0),fmt ='o',color='black',ecolor='black', elinewidth=3,ls=\"none\",mfc=\"w\",label = '1 camada oculta')\n",
    "plt.errorbar(range(1,155,5),np.mean(acerto_v2,axis= 0),np.std(acerto_v2,axis= 0),fmt ='s',color='red',ecolor='red', elinewidth=3,ls=\"none\",mfc=\"w\",label = '2 camadas ocultas')\n",
    "plt.errorbar(range(1,155,5),np.mean(acerto_v3,axis= 0),np.std(acerto_v3,axis= 0),fmt ='^',color='gray',ecolor='gray', elinewidth=3,ls=\"none\",mfc=\"w\",label = '3 camadas ocultas')\n",
    "\n",
    "plt.legend()\n",
    "plt.grid(linestyle='--', linewidth=1)\n",
    "plt.ylabel('acurácia', size=22)\n",
    "plt.xlabel('Número de Neurônios', size=22)\n",
    "plt.ylim(0,0.8)\n"
   ]
  },
  {
   "cell_type": "code",
   "execution_count": 58,
   "metadata": {},
   "outputs": [
    {
     "name": "stdout",
     "output_type": "stream",
     "text": [
      "Melhor modelo usando apenas a media\n",
      "número de neurônios na camada oculta 86\n"
     ]
    }
   ],
   "source": [
    "print('Melhor modelo usando apenas a média')\n",
    "print('número de neurônios na camada oculta',range(1,155,5)[np.argmax(np.mean(acerto_v3,axis= 0))])"
   ]
  },
  {
   "cell_type": "code",
   "execution_count": 62,
   "metadata": {},
   "outputs": [
    {
     "name": "stdout",
     "output_type": "stream",
     "text": [
      "Valor std\n",
      "Acurácia 0.7661588277142889 std 0.003471496894505829\n"
     ]
    }
   ],
   "source": [
    "print('Valor', 'std')\n",
    "print('Acurácia',np.max(np.mean(acerto_v3,axis= 0)),'std',np.std(acerto_v3,axis= 0)[np.argmax(np.mean(acerto_v3,axis= 0))])"
   ]
  },
  {
   "cell_type": "code",
   "execution_count": 65,
   "metadata": {},
   "outputs": [
    {
     "name": "stdout",
     "output_type": "stream",
     "text": [
      "Melhor modelo usando a media e seu desvio padrão\n",
      "Valor std\n",
      "Acurácia 0.7656847388339102 std 0.009547637228188374\n",
      "Número de neurônios 51\n",
      "O modelo tem 3 camadas ocultas\n"
     ]
    }
   ],
   "source": [
    "print('Melhor modelo usando a média e seu desvio padrão')\n",
    "print('Valor', 'std')\n",
    "print('Acurácia',np.mean(acerto_v3,axis= 0)[-1],'std',np.std(acerto_v3,axis= 0)[-1])\n",
    "print('Número de neurônios 51')\n",
    "print('O modelo tem 3 camadas ocultas')"
   ]
  },
  {
   "cell_type": "markdown",
   "metadata": {
    "id": "aE0FpkCmomEw"
   },
   "source": [
    "# Modelando o SVM"
   ]
  },
  {
   "cell_type": "code",
   "execution_count": 66,
   "metadata": {
    "id": "VpevVmYJolaR"
   },
   "outputs": [],
   "source": [
    "from sklearn import svm  # inportar instancia que tem o SVM"
   ]
  },
  {
   "cell_type": "code",
   "execution_count": 88,
   "metadata": {
    "id": "lTJ8tFTmoldg"
   },
   "outputs": [
    {
     "name": "stdout",
     "output_type": "stream",
     "text": [
      "1\n",
      "2\n",
      "3\n",
      "4\n",
      "5\n"
     ]
    }
   ],
   "source": [
    "C = np.array([1,10,100]) # parâmetro C\n",
    "gm =  np.linspace(0.01,1,10) # parâmetro gamma\n",
    "er_test_svm = np.zeros((len(C),len(gm),5))\n",
    "er_val_svm  = np.zeros((len(C),len(gm),5))\n",
    "\n",
    "k = 0\n",
    "for linhas_treino, linhas_valid in kf.split(X_train1):\n",
    "    \n",
    "    X_t, X_v = X_train1[linhas_treino], X_train1[linhas_valid]\n",
    "    y_t, y_v = y_train1[linhas_treino], y_train1[linhas_valid]\n",
    "    # como todos os classificadores são baseados em distância, vou normalizar os dados \n",
    "    X_t     = scaler.fit_transform(X_t) # dados de treinamento normalizado\n",
    "    X_v     = scaler.fit_transform(X_v) # dados de validação normalizado\n",
    "\n",
    "    for i in range(len(C)):\n",
    "        for j in range(len(gm)):\n",
    "            model = svm.SVC(C[i],kernel = 'rbf', gamma = gm[j])  # modelo \n",
    "            #model.fit(X_train1,y_train1)                         # treinando o modelo\n",
    "            #er_test_svm[i][j][k] = model.score(X_t,y_t) # trainamento\n",
    "            #er_val_svm[i][j][k]  = model.score(X_v,y_v) # validação\n",
    "            #print(clf.score(X_val,y_val))\n",
    "            \n",
    "            model.fit(X_t, y_t)        \n",
    "            y_pred = model.predict(X_v)\n",
    "            er_val_svm[i][j][k]  = accuracy_score(y_v,y_pred)\n",
    "            \n",
    "            \n",
    "    k =  k + 1\n",
    "    print(k)"
   ]
  },
  {
   "cell_type": "code",
   "execution_count": 100,
   "metadata": {},
   "outputs": [
    {
     "data": {
      "image/png": "[encoded data removed]",
      "text/plain": [
       "<Figure size 864x576 with 1 Axes>"
      ]
     },
     "metadata": {},
     "output_type": "display_data"
    }
   ],
   "source": [
    "plt.rc('ytick', labelsize=18)\n",
    "plt.rc('xtick', labelsize=18)\n",
    "plt.figure(figsize=(12,8))\n",
    "plt.errorbar(gm,np.mean(er_val_svm[0],axis= 1),np.std(er_val_svm[0],axis= 1),fmt ='o',color='black',ecolor='black', elinewidth=3,ls=\"none\",mfc=\"w\",label = 'C =1')\n",
    "plt.errorbar(gm,np.mean(er_val_svm[1],axis= 1),np.std(er_val_svm[1],axis= 1),fmt ='s',color='red',ecolor='red', elinewidth=3,ls=\"none\",mfc=\"w\",label = 'C =10')\n",
    "plt.errorbar(gm,np.mean(er_val_svm[2],axis= 1),np.std(er_val_svm[2],axis= 1),fmt ='^',color='gray',ecolor='gray', elinewidth=3,ls=\"none\",mfc=\"w\",label = 'C =100')\n",
    "\n",
    "plt.legend()\n",
    "plt.grid(linestyle='--', linewidth=1)\n",
    "plt.ylabel('acurácia', size=22)\n",
    "plt.xlabel('Valores de gamma', size=22)\n",
    "plt.ylim(0.65,0.76)\n",
    "plt.show()"
   ]
  },
  {
   "cell_type": "markdown",
   "metadata": {},
   "source": [
    "Claramente o melhor configuração do SVM encontrado é de C = 1 e gamma = 1"
   ]
  },
  {
   "cell_type": "code",
   "execution_count": 106,
   "metadata": {
    "scrolled": true
   },
   "outputs": [
    {
     "name": "stdout",
     "output_type": "stream",
     "text": [
      "Acurácia 0.7526638427445906 Desvio padrão 0.002677892504299311\n"
     ]
    }
   ],
   "source": [
    "print('Acurácia',np.mean(er_val_svm[0],axis= 1)[9],'Desvio padrão',np.std(er_val_svm[0],axis= 1)[-1])"
   ]
  },
  {
   "cell_type": "markdown",
   "metadata": {},
   "source": [
    "# Seleção de variáveis, por modelo.\n",
    "### MLP"
   ]
  },
  {
   "cell_type": "code",
   "execution_count": 145,
   "metadata": {},
   "outputs": [],
   "source": [
    "acerto_v = np.zeros((5,X_t.shape[1]))\n",
    "j =0"
   ]
  },
  {
   "cell_type": "code",
   "execution_count": 146,
   "metadata": {},
   "outputs": [
    {
     "name": "stdout",
     "output_type": "stream",
     "text": [
      "1\n",
      "2\n",
      "3\n",
      "4\n",
      "5\n"
     ]
    }
   ],
   "source": [
    "for linhas_treino, linhas_valid in kf.split(X_train1):\n",
    "    \n",
    "    X_t, X_v = X_train1[linhas_treino], X_train1[linhas_valid]\n",
    "    y_t, y_v = y_train1[linhas_treino], y_train1[linhas_valid]\n",
    "    #  como todos os classificadores são baseados em distância, vou normalizar os dados \n",
    "    X_t     = scaler.fit_transform(X_t) # dados de treinamento normalizado\n",
    "    X_v     = scaler.fit_transform(X_v) # dados de validação normalizado\n",
    "\n",
    "    for i in range(X_t.shape[1]):\n",
    "        clf = MLPClassifier(hidden_layer_sizes=(86,86,86), solver='adam', alpha=1e-5, random_state=1, max_iter=1000)\n",
    "        clf.fit(X_t[:,np.delete(np.arange(X_t.shape[1]),i)], y_t)\n",
    "        y_pred = clf.predict(X_v[:,np.delete(np.arange(X_t.shape[1]),i)])\n",
    "        acerto_v[j][i] = accuracy_score(y_v,y_pred)\n",
    "    \n",
    "    j =  j + 1\n",
    "    print(j)      "
   ]
  },
  {
   "cell_type": "code",
   "execution_count": 193,
   "metadata": {},
   "outputs": [],
   "source": [
    "acerto_vm = np.mean(acerto_v, axis =0)\n",
    "acerto_vs = np.std(acerto_v, axis =0)"
   ]
  },
  {
   "cell_type": "code",
   "execution_count": 194,
   "metadata": {},
   "outputs": [],
   "source": [
    "acerto_V = np.zeros(X_t.shape[1]+1)\n",
    "at = np.mean(acerto_v3,axis = 0)\n",
    "acerto_V[0] = at[np.argmax(at)]\n",
    "acerto_V[1:] = acerto_vm\n",
    "\n",
    "\n",
    "acerto_S = np.zeros(X_t.shape[1]+1)\n",
    "at = np.std(acerto_v3,axis = 0)\n",
    "acerto_S[0] = at[np.argmax(at)]\n",
    "acerto_S[1:] = acerto_vs"
   ]
  },
  {
   "cell_type": "code",
   "execution_count": 195,
   "metadata": {},
   "outputs": [],
   "source": [
    "x = ['Todos','avg_rss12', 'var_rss12', 'avg_rss13', 'var_rss13', 'avg_rss23',\n",
    "       'var_rss23', 'Classes']"
   ]
  },
  {
   "cell_type": "code",
   "execution_count": 201,
   "metadata": {},
   "outputs": [
    {
     "data": {
      "image/png": "[encoded data removed]",
      "text/plain": [
       "<Figure size 864x576 with 1 Axes>"
      ]
     },
     "metadata": {},
     "output_type": "display_data"
    }
   ],
   "source": [
    "plt.rc('ytick', labelsize=18)\n",
    "plt.rc('xtick', labelsize=18)\n",
    "plt.figure(figsize=(12,8))\n",
    "plt.errorbar(np.arange(X_t.shape[1]+1),acerto_V,acerto_S,fmt ='o',color='black',ecolor='black', elinewidth=3,ls=\"none\",mfc=\"w\",label = 'C =1')\n",
    "plt.grid(linestyle='--', linewidth=1)\n",
    "plt.ylabel('acurácia', size=22)\n",
    "ax = plt.gca()\n",
    "ax.set_xticks(np.arange(X_t.shape[1]+1))\n",
    "ax.set_xticklabels(x)\n",
    "plt.show()"
   ]
  },
  {
   "cell_type": "markdown",
   "metadata": {},
   "source": [
    "pelo comportamento do gráfico nenhuma destas variáveis podem ser descartadas para este modelos "
   ]
  },
  {
   "cell_type": "code",
   "execution_count": 217,
   "metadata": {},
   "outputs": [],
   "source": [
    "act_v = np.zeros((5,X_t.shape[1]))\n",
    "j =0"
   ]
  },
  {
   "cell_type": "code",
   "execution_count": 218,
   "metadata": {},
   "outputs": [
    {
     "name": "stdout",
     "output_type": "stream",
     "text": [
      "1\n",
      "2\n",
      "3\n",
      "4\n",
      "5\n"
     ]
    }
   ],
   "source": [
    "for linhas_treino, linhas_valid in kf.split(X_train1):\n",
    "    \n",
    "    X_t, X_v = X_train1[linhas_treino], X_train1[linhas_valid]\n",
    "    y_t, y_v = y_train1[linhas_treino], y_train1[linhas_valid]\n",
    "    #  como todos os classificadores são baseados em distancia, vou normaliza os dados\n",
    "    X_t     = scaler.fit_transform(X_t) # dados de treinamento normalizado\n",
    "    X_v     = scaler.fit_transform(X_v) # dados de validação normalizado\n",
    "\n",
    "    for i in range(X_t.shape[1]):\n",
    "        model = svm.SVC(1,kernel = 'rbf', gamma = 1)  # modelo \n",
    "        model.fit(X_t[:,np.delete(np.arange(X_t.shape[1]),i)], y_t)\n",
    "        y_pred = model.predict(X_v[:,np.delete(np.arange(X_t.shape[1]),i)])\n",
    "        act_v[j][i] = accuracy_score(y_v,y_pred)\n",
    "    \n",
    "    j =  j + 1\n",
    "    print(j)      "
   ]
  },
  {
   "cell_type": "code",
   "execution_count": 219,
   "metadata": {},
   "outputs": [],
   "source": [
    "acerto_vm = np.mean(act_v, axis =0)\n",
    "acerto_vs = np.std(act_v, axis =0)"
   ]
  },
  {
   "cell_type": "code",
   "execution_count": 220,
   "metadata": {},
   "outputs": [],
   "source": [
    "acerto_V = np.zeros(X_t.shape[1]+1)\n",
    "at = np.mean(er_val_svm[0],axis = 1)\n",
    "acerto_V[0] = at[np.argmax(at)]\n",
    "acerto_V[1:] = acerto_vm\n",
    "\n",
    "\n",
    "acerto_S = np.zeros(X_t.shape[1]+1)\n",
    "at = np.std(er_val_svm[0],axis = 1)\n",
    "acerto_S[0] = at[np.argmax(at)]\n",
    "acerto_S[1:] = acerto_vs"
   ]
  },
  {
   "cell_type": "code",
   "execution_count": 222,
   "metadata": {},
   "outputs": [
    {
     "data": {
      "image/png": "[encoded data removed]",
      "text/plain": [
       "<Figure size 864x576 with 1 Axes>"
      ]
     },
     "metadata": {},
     "output_type": "display_data"
    }
   ],
   "source": [
    "plt.rc('ytick', labelsize=18)\n",
    "plt.rc('xtick', labelsize=18)\n",
    "plt.figure(figsize=(12,8))\n",
    "plt.errorbar(np.arange(X_t.shape[1]+1),acerto_V,acerto_S/np.sqrt(5),fmt ='o',color='black',ecolor='black', elinewidth=3,ls=\"none\",mfc=\"w\",label = 'C =1')\n",
    "plt.grid(linestyle='--', linewidth=1)\n",
    "plt.ylabel('acurácia', size=22)\n",
    "ax = plt.gca()\n",
    "ax.set_xticks(np.arange(X_t.shape[1]+1))\n",
    "ax.set_xticklabels(x)\n",
    "plt.show()"
   ]
  },
  {
   "cell_type": "markdown",
   "metadata": {},
   "source": [
    "Pelo comportamento do gráfico nenhuma variável vai ser descartada neste modelo."
   ]
  },
  {
   "cell_type": "markdown",
   "metadata": {},
   "source": [
    "### Obs: Na parte 1 deste trabalho teve a parte de pré-processamento de dados, análise exploratória dos dados. Também temos a parte da modelagem dos classificadores MLP e SVM, no qual o melhor modelo encontrado  para a MLP foi 3 camadas ocultas e 86 neurônios em cada uma delas, no caso do SVM foi com um c e gamma de 1.\n",
    "\n",
    "### Na parte 2 teremos a modelagem da rede com kernel RBF.\n",
    "\n",
    "### A última parte contém avaliação dos modelos, e mostra qual delas é melhor. \n",
    "\n"
   ]
  },
  {
   "cell_type": "code",
   "execution_count": null,
   "metadata": {},
   "outputs": [],
   "source": []
  }
 ],
 "metadata": {
  "colab": {
   "collapsed_sections": [],
   "name": "Trabalho_3.ipynb",
   "provenance": []
  },
  "kernelspec": {
   "display_name": "Python 3",
   "language": "python",
   "name": "python3"
  },
  "language_info": {
   "codemirror_mode": {
    "name": "ipython",
    "version": 3
   },
   "file_extension": ".py",
   "mimetype": "text/x-python",
   "name": "python",
   "nbconvert_exporter": "python",
   "pygments_lexer": "ipython3",
   "version": "3.8.3"
  }
 },
 "nbformat": 4,
 "nbformat_minor": 1
}
