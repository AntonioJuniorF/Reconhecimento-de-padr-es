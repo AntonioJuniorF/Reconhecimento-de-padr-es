{
 "cells": [
  {
   "cell_type": "code",
   "execution_count": null,
   "metadata": {
    "colab": {
     "base_uri": "https://localhost:8080/"
    },
    "id": "CpTmZjAUsc3s",
    "outputId": "2ba18b38-9f98-4187-db81-29e1be9413ca"
   },
   "outputs": [
    {
     "name": "stdout",
     "output_type": "stream",
     "text": [
      "Drive already mounted at /content/drive; to attempt to forcibly remount, call drive.mount(\"/content/drive\", force_remount=True).\n"
     ]
    }
   ],
   "source": [
    "import pandas as pd\n",
    "import numpy as np\n",
    "import matplotlib.pyplot as plt\n",
    "import seaborn as sns\n",
    "%matplotlib inline\n",
    "from google.colab import drive\n",
    "from sklearn.neural_network import MLPClassifier\n",
    "from sklearn.metrics import accuracy_score\n",
    "from sklearn.metrics import confusion_matrix\n",
    "import glob\n",
    "drive.mount('/content/drive')"
   ]
  },
  {
   "cell_type": "markdown",
   "metadata": {
    "id": "mFUECdfzsyVu"
   },
   "source": [
    "# Informações sobre o algoritmo.\n",
    "- No servidor do Neutrinos Angra não tem algumas bibliotecas necessárias para construir o algoritmo da rede neural com kernel RBF. Por este motivo vou rodar este algoritmo no google colab. \n"
   ]
  },
  {
   "cell_type": "markdown",
   "metadata": {
    "id": "2XFUQ_MoXHHO"
   },
   "source": [
    "# Importando os arquvos"
   ]
  },
  {
   "cell_type": "code",
   "execution_count": null,
   "metadata": {
    "id": "WUmpesqDziG8"
   },
   "outputs": [],
   "source": [
    "# Carrega todos arquivos scv que estão dentro de uma pasta e os armazena em uma lista \n",
    "def rot_aux(aux,aux1,ind,ind1):\n",
    "    df_a   = pd.read_csv(aux1[ind1], skiprows=[0,1,2,3]) # carregar o dataframe que está dentro da pasta \n",
    "    rotulo = np.array(aux)[ind][29:len(aux[ind])] # rótulo do banco de dados carregado\n",
    "    rot    = [] \n",
    "    for i in range(len(df_a)):\n",
    "        rot.append(rotulo)\n",
    "    df_a['Classes'] = rot # adcionar o rótulo na figura\n",
    "    return df_a"
   ]
  },
  {
   "cell_type": "code",
   "execution_count": null,
   "metadata": {
    "id": "iqRgQSdgNspP"
   },
   "outputs": [],
   "source": [
    "# Concatena os arquivos que estão na lista que é obtida pela função rot_aux\n",
    "def rotular_df(aux,ind): \n",
    "    a    = aux[ind] +'/*'\n",
    "    aux1 = glob.glob(a) #listar as pastas que contém todos os dados de cada exercício\n",
    "    df = pd.concat([rot_aux(aux,aux1,ind,ind1 = i) for i in range(len(aux1))],ignore_index=True)\n",
    "    return df"
   ]
  },
  {
   "cell_type": "code",
   "execution_count": null,
   "metadata": {
    "id": "DTdD6MyX1Xz4"
   },
   "outputs": [],
   "source": [
    "aux  = glob.glob('/home/antoniojr/notebooks/AReM/*') #listar as pastas que contém todos os dados de cada exercício\n",
    "df = pd.concat([rotular_df(aux,ind =i) for i in range(len(aux))],ignore_index=True) # dataframe que contém todos os parâmetros "
   ]
  },
  {
   "cell_type": "code",
   "execution_count": null,
   "metadata": {
    "id": "itqDXuuk3aXe"
   },
   "outputs": [],
   "source": [
    "df=df.drop('# Columns: time', axis=1) # excluindo a coluna que não tenho interesse ((foi visto que os valores se repetem para cada classe) "
   ]
  },
  {
   "cell_type": "code",
   "execution_count": null,
   "metadata": {
    "colab": {
     "base_uri": "https://localhost:8080/",
     "height": 206
    },
    "id": "Of0hyDMCTYx0",
    "outputId": "5d7e75b4-8d64-4911-f796-547dd1f7c0b8"
   },
   "outputs": [
    {
     "data": {
      "text/html": [
       "<div>\n",
       "<style scoped>\n",
       "    .dataframe tbody tr th:only-of-type {\n",
       "        vertical-align: middle;\n",
       "    }\n",
       "\n",
       "    .dataframe tbody tr th {\n",
       "        vertical-align: top;\n",
       "    }\n",
       "\n",
       "    .dataframe thead th {\n",
       "        text-align: right;\n",
       "    }\n",
       "</style>\n",
       "<table border=\"1\" class=\"dataframe\">\n",
       "  <thead>\n",
       "    <tr style=\"text-align: right;\">\n",
       "      <th></th>\n",
       "      <th>avg_rss12</th>\n",
       "      <th>var_rss12</th>\n",
       "      <th>avg_rss13</th>\n",
       "      <th>var_rss13</th>\n",
       "      <th>avg_rss23</th>\n",
       "      <th>var_rss23</th>\n",
       "      <th>Classes</th>\n",
       "    </tr>\n",
       "  </thead>\n",
       "  <tbody>\n",
       "    <tr>\n",
       "      <th>0</th>\n",
       "      <td>46.25</td>\n",
       "      <td>0.43</td>\n",
       "      <td>18.25</td>\n",
       "      <td>0.43</td>\n",
       "      <td>14.75</td>\n",
       "      <td>0.43</td>\n",
       "      <td>standing</td>\n",
       "    </tr>\n",
       "    <tr>\n",
       "      <th>1</th>\n",
       "      <td>46.00</td>\n",
       "      <td>0.71</td>\n",
       "      <td>18.50</td>\n",
       "      <td>0.87</td>\n",
       "      <td>14.25</td>\n",
       "      <td>0.83</td>\n",
       "      <td>standing</td>\n",
       "    </tr>\n",
       "    <tr>\n",
       "      <th>2</th>\n",
       "      <td>46.25</td>\n",
       "      <td>0.83</td>\n",
       "      <td>18.50</td>\n",
       "      <td>0.87</td>\n",
       "      <td>13.75</td>\n",
       "      <td>0.83</td>\n",
       "      <td>standing</td>\n",
       "    </tr>\n",
       "    <tr>\n",
       "      <th>3</th>\n",
       "      <td>46.25</td>\n",
       "      <td>0.83</td>\n",
       "      <td>18.67</td>\n",
       "      <td>0.47</td>\n",
       "      <td>14.00</td>\n",
       "      <td>0.82</td>\n",
       "      <td>standing</td>\n",
       "    </tr>\n",
       "    <tr>\n",
       "      <th>4</th>\n",
       "      <td>46.00</td>\n",
       "      <td>1.00</td>\n",
       "      <td>18.50</td>\n",
       "      <td>0.50</td>\n",
       "      <td>13.25</td>\n",
       "      <td>0.83</td>\n",
       "      <td>standing</td>\n",
       "    </tr>\n",
       "  </tbody>\n",
       "</table>\n",
       "</div>"
      ],
      "text/plain": [
       "   avg_rss12  var_rss12  avg_rss13  var_rss13  avg_rss23  var_rss23   Classes\n",
       "0      46.25       0.43      18.25       0.43      14.75       0.43  standing\n",
       "1      46.00       0.71      18.50       0.87      14.25       0.83  standing\n",
       "2      46.25       0.83      18.50       0.87      13.75       0.83  standing\n",
       "3      46.25       0.83      18.67       0.47      14.00       0.82  standing\n",
       "4      46.00       1.00      18.50       0.50      13.25       0.83  standing"
      ]
     },
     "execution_count": 6,
     "metadata": {
      "tags": []
     },
     "output_type": "execute_result"
    }
   ],
   "source": [
    "df.head() # olhando o banco de dados "
   ]
  },
  {
   "cell_type": "markdown",
   "metadata": {
    "id": "N1D1YqMTYMvx"
   },
   "source": [
    "# Mudando as label dos dados de target\n"
   ]
  },
  {
   "cell_type": "markdown",
   "metadata": {
    "id": "fADgcbhKTVRV"
   },
   "source": [
    "## Criando as label"
   ]
  },
  {
   "cell_type": "code",
   "execution_count": null,
   "metadata": {
    "id": "Edaz2xuHSDY5"
   },
   "outputs": [],
   "source": [
    "df['Classes'] = df['Classes'].map({'bending1':0, 'bending2':1, 'cycling':2, 'lying':3, 'sitting':4, 'standing':5,\n",
    "       'walking':6})"
   ]
  },
  {
   "cell_type": "code",
   "execution_count": null,
   "metadata": {
    "colab": {
     "base_uri": "https://localhost:8080/"
    },
    "id": "uqkq2-mFSDfk",
    "outputId": "5e9e3135-c5ff-4273-bdad-12ac579ca49e"
   },
   "outputs": [
    {
     "data": {
      "text/plain": [
       "array([5, 4, 2, 6, 1, 0, 3])"
      ]
     },
     "execution_count": 8,
     "metadata": {
      "tags": []
     },
     "output_type": "execute_result"
    }
   ],
   "source": [
    "df.Classes.unique()"
   ]
  },
  {
   "cell_type": "markdown",
   "metadata": {
    "id": "UsLmzAQjpZui"
   },
   "source": [
    "# Modelagem dos modelos\n",
    "\n",
    "### Separando os dados de treinamento, teste."
   ]
  },
  {
   "cell_type": "code",
   "execution_count": null,
   "metadata": {
    "id": "s13FHwOtolQx"
   },
   "outputs": [],
   "source": [
    "from sklearn.model_selection import train_test_split "
   ]
  },
  {
   "cell_type": "code",
   "execution_count": null,
   "metadata": {
    "id": "RIM6yGIdqLZL"
   },
   "outputs": [],
   "source": [
    "X_train1, X_test1, y_train1, y_test1 = train_test_split(df[df.columns[0:-1]], np.ravel(df['Classes']), test_size=0.40, random_state=101)"
   ]
  },
  {
   "cell_type": "markdown",
   "metadata": {
    "id": "EVbNqgiLpPk2"
   },
   "source": [
    "Foi separado 70 % dos dados para treinamento, 30 % para teste."
   ]
  },
  {
   "cell_type": "code",
   "execution_count": null,
   "metadata": {
    "id": "YtQU9rx9hz_Y"
   },
   "outputs": [],
   "source": [
    "from sklearn.preprocessing import StandardScaler\n",
    "from sklearn.model_selection import KFold"
   ]
  },
  {
   "cell_type": "code",
   "execution_count": null,
   "metadata": {
    "id": "-j6bov1hqLcq"
   },
   "outputs": [],
   "source": [
    "kf = KFold(n_splits=5) # selecionado 5 folds para realizar a validação cruzada"
   ]
  },
  {
   "cell_type": "code",
   "execution_count": null,
   "metadata": {
    "id": "ZQXFGf85RFvW"
   },
   "outputs": [],
   "source": [
    "from sklearn.metrics import classification_report,confusion_matrix # importar matriz de confusão"
   ]
  },
  {
   "cell_type": "markdown",
   "metadata": {
    "id": "Za8GvflE-_MO"
   },
   "source": [
    "# rede RBF"
   ]
  },
  {
   "cell_type": "code",
   "execution_count": null,
   "metadata": {
    "id": "ptCoOX1x5Gyw"
   },
   "outputs": [],
   "source": [
    "from sklearn.cluster import KMeans\n",
    "from scipy.spatial import distance\n",
    "from sklearn.preprocessing import OneHotEncoder\n",
    "\n",
    "\n",
    "#Determinação da rede:\n",
    "def RBFN(xTrain, yTrain, neurons):\n",
    "    #Determinar centróide dos clusters: (centro das gaussianas de cada neurônio)\n",
    "    K_cent = neurons\n",
    "    km     = KMeans(n_clusters= K_cent, max_iter= 200)\n",
    "    km.fit(xTrain)\n",
    "    cent   = km.cluster_centers_\n",
    "    #Cálculo do sigma:\n",
    "    dist_vector = distance.pdist(cent,'euclidean')\n",
    "    dist_matrix = distance.squareform(dist_vector)\n",
    "    sigma       = dist_matrix.max()/(np.sqrt(2*neurons))\n",
    "    #Codificando a matriz de labels:\n",
    "    encoder  = OneHotEncoder()\n",
    "    yTrain   = encoder.fit_transform(yTrain.reshape(-1,1)).toarray()\n",
    "    #Cálculo da gaussiana em cada dado de treinamento:\n",
    "    shape  = xTrain.shape\n",
    "    row    = shape[0]\n",
    "    column = neurons\n",
    "    phi    = np.zeros((row,column), dtype= float)\n",
    "    for i in range(row):\n",
    "        for j in range(column):\n",
    "            dist     = np.linalg.norm(xTrain[i]-cent[j])\n",
    "            phi[i,j] = np.exp(-(dist**2)/(2*(sigma**2)))\n",
    "    #Cálculo da pseudo-inversa:\n",
    "    w = np.linalg.inv(phi.T @ phi) @ (phi.T @ yTrain)\n",
    "    return w, cent, sigma\n",
    "\n"
   ]
  },
  {
   "cell_type": "code",
   "execution_count": null,
   "metadata": {
    "id": "6COpYELK5HJs"
   },
   "outputs": [],
   "source": [
    "#Eficiência da rede utilizando os valores de w:\n",
    "\n",
    "def RBFN_score(xTest, yTest, w, cent, sigma):\n",
    "    row      = xTest.shape[0]\n",
    "    column   = len(w)\n",
    "    phiTest  = np.zeros((row,column), dtype= float)\n",
    "    for i in range(row):\n",
    "        for j in range(column):\n",
    "            distTest      = np.linalg.norm(xTest[i]-cent[j])\n",
    "            phiTest[i,j]  = np.exp(-(distTest**2)/(2*(sigma**2)))\n",
    "    predTest   = phiTest @ w\n",
    "    prediction = np.zeros([predTest.shape[0],predTest.shape[1]])\n",
    "    for i in range(len(predTest)):\n",
    "        ind = np.where(predTest[i] == max(predTest[i]))\n",
    "        prediction[i,ind] = 1\n",
    "    encoder    = OneHotEncoder()\n",
    "    yTest   = encoder.fit_transform(yTest.reshape(-1,1)).toarray()\n",
    "    prediction = encoder.inverse_transform(prediction)\n",
    "    \n",
    "    return prediction"
   ]
  },
  {
   "cell_type": "code",
   "execution_count": null,
   "metadata": {
    "id": "bPzHH5kh5Hgg"
   },
   "outputs": [],
   "source": [
    "er_trein_rbf = []\n",
    "er_val_rbf = []\n",
    "\n",
    "\n",
    "neurons      = range(2,160,5)\n",
    "rbf_v        = np.zeros((5,len(neurons)))\n",
    "scaler       = StandardScaler() \n",
    "j = 0\n",
    "for linhas_treino, linhas_valid in kf.split(X_train1):\n",
    "    \n",
    "    X_t, X_v = X_train1.iloc[linhas_treino], X_train1.iloc[linhas_valid]\n",
    "    y_t, y_v = y_train1[linhas_treino], y_train1[linhas_valid]\n",
    "     # como todos os classificadores são baseados em distância, vou normalizar os dados \n",
    "    X_t     = scaler.fit_transform(X_t) # dados de treinamento normalizado\n",
    "    X_v     = scaler.fit_transform(X_v) # dados de validação normalizado\n",
    "    #y_t = y_t\n",
    "    #y_v = y_v\n",
    "\n",
    "    for i  in range(len(neurons)):\n",
    "        w,cent,sigma = RBFN(X_t, y_t, neurons =neurons[i])\n",
    "        saida       = RBFN_score(X_v, y_v, w, cent, sigma)\n",
    "        rbf         = np.sum(saida.reshape(1,len(saida)) == y_v)/len(saida)\n",
    "        rbf_v[j][i] = rbf\n",
    "    j = j +1\n",
    " "
   ]
  },
  {
   "cell_type": "code",
   "execution_count": null,
   "metadata": {
    "id": "v-_cYdvEnK2L"
   },
   "outputs": [],
   "source": [
    "#np.save('/content/drive/My Drive/rbf_v', rbf_v)\n"
   ]
  },
  {
   "cell_type": "code",
   "execution_count": null,
   "metadata": {
    "colab": {
     "base_uri": "https://localhost:8080/",
     "height": 498
    },
    "id": "rHAx0XLai2F4",
    "outputId": "90d2511f-1466-492d-cbaf-bf9175d3683a"
   },
   "outputs": [
    {
     "data": {
      "image/png": "[encoded data removed]",
      "text/plain": [
       "<Figure size 864x576 with 1 Axes>"
      ]
     },
     "metadata": {
      "needs_background": "light",
      "tags": []
     },
     "output_type": "display_data"
    }
   ],
   "source": [
    "plt.rc('ytick', labelsize=18)\n",
    "plt.rc('xtick', labelsize=18)\n",
    "plt.figure(figsize=(12,8))\n",
    "plt.errorbar(neurons,np.mean(rbf_v,axis= 0),np.std(rbf_v,axis= 0),fmt ='o',color='black',ecolor='black', elinewidth=3,ls=\"none\",mfc=\"w\",label = 'C =1')\n",
    "\n",
    "#plt.legend()\n",
    "plt.grid(linestyle='--', linewidth=1)\n",
    "plt.ylabel('acurácia', size=22)\n",
    "#plt.xlabel('Valores de gamma', size=22)\n",
    "plt.ylim(0.55,0.72)\n",
    "plt.xlim(10,160)\n",
    "plt.show()"
   ]
  },
  {
   "cell_type": "code",
   "execution_count": null,
   "metadata": {
    "colab": {
     "base_uri": "https://localhost:8080/"
    },
    "id": "ND0A4hIZ5HGz",
    "outputId": "f4e62a18-ebc5-4117-8833-2e7ee8dc1523"
   },
   "outputs": [
    {
     "name": "stdout",
     "output_type": "stream",
     "text": [
      "Acuráácia =  0.7052044454250366 desvio padrão =  0.005716392184837926 Número de neurônios =  147\n"
     ]
    }
   ],
   "source": [
    "print('Acurácia = ',np.mean(rbf_v,axis= 0)[np.argmax(np.mean(rbf_v,axis= 0))],'desvio padrão = ',np.std(rbf_v,axis= 0)[np.argmax(np.mean(rbf_v,axis= 0))],'Número de neurônios = ',neurons[np.argmax(np.mean(rbf_v,axis= 0))])"
   ]
  },
  {
   "cell_type": "markdown",
   "metadata": {
    "id": "Mx4QMv-7oWzw"
   },
   "source": [
    "# Verificando a importancia dos parâmetros para o modelo\n"
   ]
  },
  {
   "cell_type": "code",
   "execution_count": null,
   "metadata": {
    "id": "LFUTunZnpGea"
   },
   "outputs": [],
   "source": [
    "rbf_p = np.zeros((5,X_t.shape[1]))\n",
    "j =0"
   ]
  },
  {
   "cell_type": "code",
   "execution_count": null,
   "metadata": {
    "colab": {
     "base_uri": "https://localhost:8080/"
    },
    "id": "QGM9hvttouvo",
    "outputId": "111e5355-99e3-4e5a-b488-001fcec1ed6c"
   },
   "outputs": [
    {
     "name": "stdout",
     "output_type": "stream",
     "text": [
      "1\n",
      "2\n",
      "3\n",
      "4\n",
      "5\n"
     ]
    }
   ],
   "source": [
    "for linhas_treino, linhas_valid in kf.split(X_train1):\n",
    "    \n",
    "       \n",
    "    X_t, X_v = X_train1.iloc[linhas_treino], X_train1.iloc[linhas_valid]\n",
    "    y_t, y_v = y_train1[linhas_treino], y_train1[linhas_valid]\n",
    "    # como todos os classificadores são baseados em distância, vou normalizar os dados \n",
    "    X_t     = scaler.fit_transform(X_t) # dados de treinamento normalizado\n",
    "    X_v     = scaler.fit_transform(X_v) # dados de validação normalizado\n",
    "\n",
    "    for i in range(X_t.shape[1]):\n",
    "        w,cent,sigma = RBFN(X_t, y_t, neurons =neurons[i])\n",
    "        saida       = RBFN_score(X_v, y_v, w, cent, sigma)\n",
    "        rbf         = np.sum(saida.reshape(1,len(saida)) == y_v)/len(saida)\n",
    "        rbf_p[j][i] = rbf\n",
    "    \n",
    "    j =  j + 1\n",
    "    print(j)      "
   ]
  },
  {
   "cell_type": "code",
   "execution_count": null,
   "metadata": {
    "id": "Ysl4Ym2couyk"
   },
   "outputs": [],
   "source": [
    "acerto_vm = np.mean(rbf_p, axis =0)\n",
    "acerto_vs = np.std(rbf_p, axis =0)"
   ]
  },
  {
   "cell_type": "code",
   "execution_count": null,
   "metadata": {
    "id": "GUEIXH0Tou1r"
   },
   "outputs": [],
   "source": [
    "acerto_V = np.zeros(X_t.shape[1]+1)\n",
    "at = np.mean(rbf_v,axis = 0)\n",
    "acerto_V[0] = at[np.argmax(at)]\n",
    "acerto_V[1:] = acerto_vm\n",
    "\n",
    "\n",
    "acerto_S = np.zeros(X_t.shape[1]+1)\n",
    "at = np.std(rbf_v,axis = 0)\n",
    "acerto_S[0] = at[np.argmax(at)]\n",
    "acerto_S[1:] = acerto_vs"
   ]
  },
  {
   "cell_type": "code",
   "execution_count": null,
   "metadata": {
    "id": "kH3hbsSgou4Y"
   },
   "outputs": [],
   "source": [
    "x = ['Todos','avg_rss12', 'var_rss12', 'avg_rss13', 'var_rss13', 'avg_rss23',\n",
    "       'var_rss23', 'Classes']"
   ]
  },
  {
   "cell_type": "code",
   "execution_count": null,
   "metadata": {
    "colab": {
     "base_uri": "https://localhost:8080/",
     "height": 491
    },
    "id": "prbEKskUou7e",
    "outputId": "6265bfa6-3cf2-4ec6-ff78-e28b4352732e"
   },
   "outputs": [
    {
     "data": {
      "image/png": "[encoded data removed]",
      "text/plain": [
       "<Figure size 864x576 with 1 Axes>"
      ]
     },
     "metadata": {
      "needs_background": "light",
      "tags": []
     },
     "output_type": "display_data"
    }
   ],
   "source": [
    "plt.rc('ytick', labelsize=18)\n",
    "plt.rc('xtick', labelsize=18)\n",
    "plt.figure(figsize=(12,8))\n",
    "plt.errorbar(np.arange(X_t.shape[1]+1),acerto_V,acerto_S,fmt ='o',color='black',ecolor='black', elinewidth=3,ls=\"none\",mfc=\"w\",label = 'C =1')\n",
    "plt.grid(linestyle='--', linewidth=1)\n",
    "plt.ylabel('acurácia', size=22)\n",
    "ax = plt.gca()\n",
    "ax.set_xticks(np.arange(X_t.shape[1]+1))\n",
    "ax.set_xticklabels(x)\n",
    "plt.show()"
   ]
  },
  {
   "cell_type": "markdown",
   "metadata": {
    "id": "Bjx9reos5yBj"
   },
   "source": [
    "### A última parte que está no notebook Trabalho_parte_3 contém avaliação dos modelos, e mostra qual delas é melhor."
   ]
  },
  {
   "cell_type": "code",
   "execution_count": null,
   "metadata": {
    "id": "siNXz1xg_U2_"
   },
   "outputs": [],
   "source": []
  },
  {
   "cell_type": "code",
   "execution_count": null,
   "metadata": {
    "id": "uyXbJGZD2HIq"
   },
   "outputs": [],
   "source": []
  },
  {
   "cell_type": "code",
   "execution_count": null,
   "metadata": {
    "id": "fNLOOj86AR_1"
   },
   "outputs": [],
   "source": []
  },
  {
   "cell_type": "code",
   "execution_count": null,
   "metadata": {
    "id": "-ZVtMJdJbSHU"
   },
   "outputs": [],
   "source": []
  },
  {
   "cell_type": "code",
   "execution_count": null,
   "metadata": {
    "id": "EEpMWhB3H0SP"
   },
   "outputs": [],
   "source": []
  },
  {
   "cell_type": "code",
   "execution_count": null,
   "metadata": {
    "id": "4mYceSGRI1D2"
   },
   "outputs": [],
   "source": []
  },
  {
   "cell_type": "code",
   "execution_count": null,
   "metadata": {
    "id": "-WHcECv8u0Qt"
   },
   "outputs": [],
   "source": []
  },
  {
   "cell_type": "code",
   "execution_count": null,
   "metadata": {
    "id": "9yzhQBlZJHAK"
   },
   "outputs": [],
   "source": []
  },
  {
   "cell_type": "code",
   "execution_count": null,
   "metadata": {
    "id": "ysYDOmTIbfar"
   },
   "outputs": [],
   "source": []
  },
  {
   "cell_type": "code",
   "execution_count": null,
   "metadata": {
    "id": "5hatMKTH6PSu"
   },
   "outputs": [],
   "source": []
  },
  {
   "cell_type": "code",
   "execution_count": null,
   "metadata": {
    "id": "_Mj2O86YAzg_"
   },
   "outputs": [],
   "source": []
  },
  {
   "cell_type": "code",
   "execution_count": null,
   "metadata": {
    "id": "DTLoiYCW_1t3"
   },
   "outputs": [],
   "source": []
  },
  {
   "cell_type": "code",
   "execution_count": null,
   "metadata": {
    "id": "mO51RPtx_CHM"
   },
   "outputs": [],
   "source": []
  },
  {
   "cell_type": "code",
   "execution_count": null,
   "metadata": {
    "id": "GtWTRuk1-Y97"
   },
   "outputs": [],
   "source": []
  },
  {
   "cell_type": "code",
   "execution_count": null,
   "metadata": {
    "id": "KTGMoS4r-jto"
   },
   "outputs": [],
   "source": []
  },
  {
   "cell_type": "code",
   "execution_count": null,
   "metadata": {
    "id": "zZtlvO-o_L82"
   },
   "outputs": [],
   "source": []
  },
  {
   "cell_type": "code",
   "execution_count": null,
   "metadata": {
    "id": "h_5sV4Su_epF"
   },
   "outputs": [],
   "source": []
  },
  {
   "cell_type": "code",
   "execution_count": null,
   "metadata": {
    "id": "MFKAFWPE_nAQ"
   },
   "outputs": [],
   "source": []
  }
 ],
 "metadata": {
  "colab": {
   "collapsed_sections": [],
   "name": "Trabalho_3_parte _2.ipynb",
   "provenance": []
  },
  "kernelspec": {
   "display_name": "Python 3",
   "language": "python",
   "name": "python3"
  },
  "language_info": {
   "codemirror_mode": {
    "name": "ipython",
    "version": 3
   },
   "file_extension": ".py",
   "mimetype": "text/x-python",
   "name": "python",
   "nbconvert_exporter": "python",
   "pygments_lexer": "ipython3",
   "version": "3.8.3"
  }
 },
 "nbformat": 4,
 "nbformat_minor": 1
}
